{
 "cells": [
  {
   "cell_type": "markdown",
   "metadata": {},
   "source": [
    "# Perch Routing\n",
    "\n",
    "Vehicle Routing problem for volunteer deliveries for Perch's lockdown dinner dash.\n",
    "\n",
    "### Constraints\n",
    "For each day:\n",
    "* Fixed number of delivery locations at certain addresses\n",
    "* Fixed starting point to collect deliveries from\n",
    "* Each volunteer ends at their own home address\n",
    "* Each volunteer has a class of capacity depending on their vehicle type (bicycle, motorcycle, car)\n",
    "* Each delivery can be for a number of meals for a number of people (i.e. variable weight per delivery per address)\n",
    "* Number of meals per person depends on day of the week (each person given 2 meals on MonWed, 3 on Fri)\n",
    "\n",
    "Also:\n",
    "* Optimum route could be traffic dependant for cars\n",
    "* Availability of volunteers different each day (i.e not always the same volunteers each day)\n",
    "* Delivery addresses change each day (not always teh same people receiving deliveries every day)\n",
    "\n"
   ]
  },
  {
   "cell_type": "code",
   "execution_count": 2,
   "metadata": {},
   "outputs": [
    {
     "data": {
      "text/plain": [
       "['/Users/louisekirkham/Documents/personal/perch_vrp',\n",
       " '/Users/louisekirkham/.pyenv/versions/3.7.3/lib/python37.zip',\n",
       " '/Users/louisekirkham/.pyenv/versions/3.7.3/lib/python3.7',\n",
       " '/Users/louisekirkham/.pyenv/versions/3.7.3/lib/python3.7/lib-dynload',\n",
       " '',\n",
       " '/Users/louisekirkham/.local/lib/python3.7/site-packages',\n",
       " '/Users/louisekirkham/.pyenv/versions/3.7.3/lib/python3.7/site-packages',\n",
       " '/Users/louisekirkham/.pyenv/versions/3.7.3/lib/python3.7/site-packages/IPython/extensions',\n",
       " '/Users/louisekirkham/.ipython']"
      ]
     },
     "execution_count": 2,
     "metadata": {},
     "output_type": "execute_result"
    }
   ],
   "source": [
    "import sys\n",
    "sys.path"
   ]
  },
  {
   "cell_type": "code",
   "execution_count": 42,
   "metadata": {},
   "outputs": [
    {
     "name": "stdout",
     "output_type": "stream",
     "text": [
      "Requirement already satisfied: nbformat in /Users/louisekirkham/.pyenv/versions/3.7.3/lib/python3.7/site-packages (5.1.3)\n",
      "Requirement already satisfied: traitlets>=4.1 in /Users/louisekirkham/.pyenv/versions/3.7.3/lib/python3.7/site-packages (from nbformat) (5.0.5)\n",
      "Requirement already satisfied: jupyter-core in /Users/louisekirkham/.pyenv/versions/3.7.3/lib/python3.7/site-packages (from nbformat) (4.7.1)\n",
      "Requirement already satisfied: ipython-genutils in /Users/louisekirkham/.pyenv/versions/3.7.3/lib/python3.7/site-packages (from nbformat) (0.2.0)\n",
      "Requirement already satisfied: jsonschema!=2.5.0,>=2.4 in /Users/louisekirkham/.pyenv/versions/3.7.3/lib/python3.7/site-packages (from nbformat) (3.2.0)\n",
      "Requirement already satisfied: six>=1.11.0 in /Users/louisekirkham/.pyenv/versions/3.7.3/lib/python3.7/site-packages (from jsonschema!=2.5.0,>=2.4->nbformat) (1.15.0)\n",
      "Requirement already satisfied: importlib-metadata in /Users/louisekirkham/.pyenv/versions/3.7.3/lib/python3.7/site-packages (from jsonschema!=2.5.0,>=2.4->nbformat) (3.4.0)\n",
      "Requirement already satisfied: setuptools in /Users/louisekirkham/.pyenv/versions/3.7.3/lib/python3.7/site-packages (from jsonschema!=2.5.0,>=2.4->nbformat) (40.8.0)\n",
      "Requirement already satisfied: attrs>=17.4.0 in /Users/louisekirkham/.pyenv/versions/3.7.3/lib/python3.7/site-packages (from jsonschema!=2.5.0,>=2.4->nbformat) (20.3.0)\n",
      "Requirement already satisfied: pyrsistent>=0.14.0 in /Users/louisekirkham/.pyenv/versions/3.7.3/lib/python3.7/site-packages (from jsonschema!=2.5.0,>=2.4->nbformat) (0.17.3)\n",
      "Requirement already satisfied: typing-extensions>=3.6.4 in /Users/louisekirkham/.pyenv/versions/3.7.3/lib/python3.7/site-packages (from importlib-metadata->jsonschema!=2.5.0,>=2.4->nbformat) (3.7.4.3)\n",
      "Requirement already satisfied: zipp>=0.5 in /Users/louisekirkham/.pyenv/versions/3.7.3/lib/python3.7/site-packages (from importlib-metadata->jsonschema!=2.5.0,>=2.4->nbformat) (3.4.0)\n"
     ]
    }
   ],
   "source": [
    "# Install a package direcyly from this notebook\n",
    "import sys\n",
    "!{sys.executable} -m pip install nbformat"
   ]
  },
  {
   "cell_type": "code",
   "execution_count": 41,
   "metadata": {},
   "outputs": [],
   "source": [
    "from __future__ import division\n",
    "from __future__ import print_function\n",
    "import os\n",
    "import numpy as np\n",
    "import pandas as pd\n",
    "import plotly.graph_objects as go\n",
    "import googlemaps\n",
    "from itertools import tee\n",
    "import requests\n",
    "import json\n",
    "import urllib.request\n",
    "from ortools.constraint_solver import routing_enums_pb2\n",
    "from ortools.constraint_solver import pywrapcp"
   ]
  },
  {
   "cell_type": "code",
   "execution_count": 12,
   "metadata": {},
   "outputs": [
    {
     "data": {
      "text/plain": [
       "'/Users/louisekirkham/Documents/personal/perch_vrp'"
      ]
     },
     "execution_count": 12,
     "metadata": {},
     "output_type": "execute_result"
    }
   ],
   "source": [
    "os.getcwd()"
   ]
  },
  {
   "cell_type": "markdown",
   "metadata": {},
   "source": [
    "## Input Data"
   ]
  },
  {
   "cell_type": "code",
   "execution_count": 15,
   "metadata": {},
   "outputs": [
    {
     "data": {
      "text/html": [
       "<div>\n",
       "<style scoped>\n",
       "    .dataframe tbody tr th:only-of-type {\n",
       "        vertical-align: middle;\n",
       "    }\n",
       "\n",
       "    .dataframe tbody tr th {\n",
       "        vertical-align: top;\n",
       "    }\n",
       "\n",
       "    .dataframe thead th {\n",
       "        text-align: right;\n",
       "    }\n",
       "</style>\n",
       "<table border=\"1\" class=\"dataframe\">\n",
       "  <thead>\n",
       "    <tr style=\"text-align: right;\">\n",
       "      <th></th>\n",
       "      <th>id_num</th>\n",
       "      <th>name</th>\n",
       "      <th>address</th>\n",
       "      <th>postcode</th>\n",
       "      <th>latitude</th>\n",
       "      <th>longitude</th>\n",
       "    </tr>\n",
       "  </thead>\n",
       "  <tbody>\n",
       "    <tr>\n",
       "      <th>0</th>\n",
       "      <td>delivery_01</td>\n",
       "      <td>Gia Marrgaret</td>\n",
       "      <td>94 Woolridge Way, Hackney, London</td>\n",
       "      <td>E9 6PR</td>\n",
       "      <td>51.542348</td>\n",
       "      <td>-0.049885</td>\n",
       "    </tr>\n",
       "    <tr>\n",
       "      <th>1</th>\n",
       "      <td>delivery_02</td>\n",
       "      <td>Sylvan Esso</td>\n",
       "      <td>7 Poole Rd, London</td>\n",
       "      <td>E9 7AE</td>\n",
       "      <td>51.543422</td>\n",
       "      <td>-0.045961</td>\n",
       "    </tr>\n",
       "    <tr>\n",
       "      <th>2</th>\n",
       "      <td>delivery_03</td>\n",
       "      <td>Eta James</td>\n",
       "      <td>51 Whiston Road, London</td>\n",
       "      <td>E2 8RZ</td>\n",
       "      <td>51.534488</td>\n",
       "      <td>-0.066195</td>\n",
       "    </tr>\n",
       "    <tr>\n",
       "      <th>3</th>\n",
       "      <td>delivery_04</td>\n",
       "      <td>Chet Baker</td>\n",
       "      <td>Adeyfield House, Cranwood St, Hoxton, London</td>\n",
       "      <td>EC1V 9PD</td>\n",
       "      <td>51.526541</td>\n",
       "      <td>-0.086816</td>\n",
       "    </tr>\n",
       "    <tr>\n",
       "      <th>4</th>\n",
       "      <td>delivery_05</td>\n",
       "      <td>Louis Armstrong</td>\n",
       "      <td>131 Highbury Quadrant Highbury East, London</td>\n",
       "      <td>N5 2TG</td>\n",
       "      <td>51.558769</td>\n",
       "      <td>-0.095979</td>\n",
       "    </tr>\n",
       "    <tr>\n",
       "      <th>5</th>\n",
       "      <td>delivery_06</td>\n",
       "      <td>Aretha Franklin</td>\n",
       "      <td>23 Fladbury Rd, London</td>\n",
       "      <td>N15 6SB</td>\n",
       "      <td>51.578274</td>\n",
       "      <td>-0.085052</td>\n",
       "    </tr>\n",
       "    <tr>\n",
       "      <th>6</th>\n",
       "      <td>delivery_07</td>\n",
       "      <td>Akira Kosemura</td>\n",
       "      <td>10 Ladbroke House 62-66 Highbury Grove, Highbu...</td>\n",
       "      <td>N5 2AG</td>\n",
       "      <td>51.553173</td>\n",
       "      <td>-0.097935</td>\n",
       "    </tr>\n",
       "    <tr>\n",
       "      <th>7</th>\n",
       "      <td>delivery_08</td>\n",
       "      <td>Ella Fitzgerald</td>\n",
       "      <td>45 Lampard Grove, Cazenove, London</td>\n",
       "      <td>N16 6XB</td>\n",
       "      <td>51.567425</td>\n",
       "      <td>-0.070328</td>\n",
       "    </tr>\n",
       "    <tr>\n",
       "      <th>8</th>\n",
       "      <td>delivery_09</td>\n",
       "      <td>Nancy Wilson</td>\n",
       "      <td>17 Harrowgate Rd, London</td>\n",
       "      <td>E9 7BS</td>\n",
       "      <td>51.543033</td>\n",
       "      <td>-0.038413</td>\n",
       "    </tr>\n",
       "    <tr>\n",
       "      <th>9</th>\n",
       "      <td>delivery_10</td>\n",
       "      <td>Alice Coltrane</td>\n",
       "      <td>22 Turner House, Corbyn St, Finsbury Park, London</td>\n",
       "      <td>N4 3DD</td>\n",
       "      <td>51.568494</td>\n",
       "      <td>-0.117942</td>\n",
       "    </tr>\n",
       "  </tbody>\n",
       "</table>\n",
       "</div>"
      ],
      "text/plain": [
       "        id_num             name  \\\n",
       "0  delivery_01    Gia Marrgaret   \n",
       "1  delivery_02      Sylvan Esso   \n",
       "2  delivery_03        Eta James   \n",
       "3  delivery_04       Chet Baker   \n",
       "4  delivery_05  Louis Armstrong   \n",
       "5  delivery_06  Aretha Franklin   \n",
       "6  delivery_07   Akira Kosemura   \n",
       "7  delivery_08  Ella Fitzgerald   \n",
       "8  delivery_09     Nancy Wilson   \n",
       "9  delivery_10   Alice Coltrane   \n",
       "\n",
       "                                             address  postcode   latitude  \\\n",
       "0                  94 Woolridge Way, Hackney, London    E9 6PR  51.542348   \n",
       "1                                 7 Poole Rd, London    E9 7AE  51.543422   \n",
       "2                            51 Whiston Road, London    E2 8RZ  51.534488   \n",
       "3       Adeyfield House, Cranwood St, Hoxton, London  EC1V 9PD  51.526541   \n",
       "4        131 Highbury Quadrant Highbury East, London    N5 2TG  51.558769   \n",
       "5                             23 Fladbury Rd, London   N15 6SB  51.578274   \n",
       "6  10 Ladbroke House 62-66 Highbury Grove, Highbu...    N5 2AG  51.553173   \n",
       "7                 45 Lampard Grove, Cazenove, London   N16 6XB  51.567425   \n",
       "8                           17 Harrowgate Rd, London    E9 7BS  51.543033   \n",
       "9  22 Turner House, Corbyn St, Finsbury Park, London    N4 3DD  51.568494   \n",
       "\n",
       "   longitude  \n",
       "0  -0.049885  \n",
       "1  -0.045961  \n",
       "2  -0.066195  \n",
       "3  -0.086816  \n",
       "4  -0.095979  \n",
       "5  -0.085052  \n",
       "6  -0.097935  \n",
       "7  -0.070328  \n",
       "8  -0.038413  \n",
       "9  -0.117942  "
      ]
     },
     "execution_count": 15,
     "metadata": {},
     "output_type": "execute_result"
    }
   ],
   "source": [
    "# Delivery addresses\n",
    "delivery_points_df = pd.read_csv('data/input/10_random_delivery_points.csv', index_col=False)\n",
    "delivery_points_df"
   ]
  },
  {
   "cell_type": "code",
   "execution_count": 16,
   "metadata": {},
   "outputs": [],
   "source": [
    "# Collection point\n",
    "class CollectionPoint:\n",
    "    '''This is a class for collection points'''\n",
    "    def __init__(self, id_num, name, address, postcode, latitude, longitude):\n",
    "        self.id_num = id_num\n",
    "        self.name = name\n",
    "        self.address = address\n",
    "        self.postcode = postcode\n",
    "        self.latitude = latitude\n",
    "        self.longitude = longitude\n",
    "        \n",
    "    def to_dict(self):\n",
    "        return {\n",
    "            'id_num': self.id_num,\n",
    "            'name': self.name,\n",
    "            'address': self.address,\n",
    "            'postcode': self.postcode,\n",
    "            'latitude': self.latitude,\n",
    "            'longitude': self.longitude\n",
    "        }\n",
    "\n",
    "canababes = CollectionPoint('collect_01',\n",
    "                            'Canababes',\n",
    "                            'Unit 8 Hamlet Industrial Estate, 96 White Post Ln, London',\n",
    "                            'E9 5EN',\n",
    "                            '51.542540',\n",
    "                            '-0.023000')"
   ]
  },
  {
   "cell_type": "code",
   "execution_count": 17,
   "metadata": {},
   "outputs": [
    {
     "data": {
      "text/html": [
       "<div>\n",
       "<style scoped>\n",
       "    .dataframe tbody tr th:only-of-type {\n",
       "        vertical-align: middle;\n",
       "    }\n",
       "\n",
       "    .dataframe tbody tr th {\n",
       "        vertical-align: top;\n",
       "    }\n",
       "\n",
       "    .dataframe thead th {\n",
       "        text-align: right;\n",
       "    }\n",
       "</style>\n",
       "<table border=\"1\" class=\"dataframe\">\n",
       "  <thead>\n",
       "    <tr style=\"text-align: right;\">\n",
       "      <th></th>\n",
       "      <th>id_num</th>\n",
       "      <th>name</th>\n",
       "      <th>address</th>\n",
       "      <th>postcode</th>\n",
       "      <th>latitude</th>\n",
       "      <th>longitude</th>\n",
       "    </tr>\n",
       "  </thead>\n",
       "  <tbody>\n",
       "    <tr>\n",
       "      <th>0</th>\n",
       "      <td>collect_01</td>\n",
       "      <td>Canababes</td>\n",
       "      <td>Unit 8 Hamlet Industrial Estate, 96 White Post...</td>\n",
       "      <td>E9 5EN</td>\n",
       "      <td>51.542540</td>\n",
       "      <td>-0.023000</td>\n",
       "    </tr>\n",
       "  </tbody>\n",
       "</table>\n",
       "</div>"
      ],
      "text/plain": [
       "       id_num       name                                            address  \\\n",
       "0  collect_01  Canababes  Unit 8 Hamlet Industrial Estate, 96 White Post...   \n",
       "\n",
       "  postcode   latitude  longitude  \n",
       "0   E9 5EN  51.542540  -0.023000  "
      ]
     },
     "execution_count": 17,
     "metadata": {},
     "output_type": "execute_result"
    }
   ],
   "source": [
    "collection_point_df = pd.DataFrame.from_records([s.to_dict() for s in [canababes]])\n",
    "collection_point_df"
   ]
  },
  {
   "cell_type": "code",
   "execution_count": 18,
   "metadata": {},
   "outputs": [
    {
     "data": {
      "text/html": [
       "<div>\n",
       "<style scoped>\n",
       "    .dataframe tbody tr th:only-of-type {\n",
       "        vertical-align: middle;\n",
       "    }\n",
       "\n",
       "    .dataframe tbody tr th {\n",
       "        vertical-align: top;\n",
       "    }\n",
       "\n",
       "    .dataframe thead th {\n",
       "        text-align: right;\n",
       "    }\n",
       "</style>\n",
       "<table border=\"1\" class=\"dataframe\">\n",
       "  <thead>\n",
       "    <tr style=\"text-align: right;\">\n",
       "      <th></th>\n",
       "      <th>id_num</th>\n",
       "      <th>name</th>\n",
       "      <th>address</th>\n",
       "      <th>postcode</th>\n",
       "      <th>latitude</th>\n",
       "      <th>longitude</th>\n",
       "    </tr>\n",
       "  </thead>\n",
       "  <tbody>\n",
       "    <tr>\n",
       "      <th>0</th>\n",
       "      <td>dispatch_01</td>\n",
       "      <td>Louise Kirkham</td>\n",
       "      <td>25 Coniston Walk London</td>\n",
       "      <td>E9 6EP</td>\n",
       "      <td>51.550955</td>\n",
       "      <td>-0.047934</td>\n",
       "    </tr>\n",
       "    <tr>\n",
       "      <th>1</th>\n",
       "      <td>dispatch_02</td>\n",
       "      <td>Erykah Badu</td>\n",
       "      <td>32 Lansdowne Dr, Hackney, London</td>\n",
       "      <td>E8 3EG</td>\n",
       "      <td>51.543314</td>\n",
       "      <td>-0.065094</td>\n",
       "    </tr>\n",
       "  </tbody>\n",
       "</table>\n",
       "</div>"
      ],
      "text/plain": [
       "        id_num            name                           address postcode  \\\n",
       "0  dispatch_01  Louise Kirkham           25 Coniston Walk London   E9 6EP   \n",
       "1  dispatch_02     Erykah Badu  32 Lansdowne Dr, Hackney, London   E8 3EG   \n",
       "\n",
       "    latitude  longitude  \n",
       "0  51.550955  -0.047934  \n",
       "1  51.543314  -0.065094  "
      ]
     },
     "execution_count": 18,
     "metadata": {},
     "output_type": "execute_result"
    }
   ],
   "source": [
    "# Dispatch crew assemble!\n",
    "dispatch_crew_df = pd.read_csv('data/input/dispatch_crew.csv', index_col=False)\n",
    "dispatch_crew_df\n"
   ]
  },
  {
   "cell_type": "code",
   "execution_count": 22,
   "metadata": {},
   "outputs": [
    {
     "ename": "ValueError",
     "evalue": "Mime type rendering requires nbformat>=4.2.0 but it is not installed",
     "output_type": "error",
     "traceback": [
      "\u001b[0;31m---------------------------------------------------------------------------\u001b[0m",
      "\u001b[0;31mValueError\u001b[0m                                Traceback (most recent call last)",
      "\u001b[0;32m<ipython-input-22-9e1235270173>\u001b[0m in \u001b[0;36m<module>\u001b[0;34m\u001b[0m\n\u001b[1;32m     58\u001b[0m )\n\u001b[1;32m     59\u001b[0m \u001b[0;34m\u001b[0m\u001b[0m\n\u001b[0;32m---> 60\u001b[0;31m \u001b[0mfig\u001b[0m\u001b[0;34m.\u001b[0m\u001b[0mshow\u001b[0m\u001b[0;34m(\u001b[0m\u001b[0;34m)\u001b[0m\u001b[0;34m\u001b[0m\u001b[0;34m\u001b[0m\u001b[0m\n\u001b[0m",
      "\u001b[0;32m~/.pyenv/versions/3.7.3/lib/python3.7/site-packages/plotly/basedatatypes.py\u001b[0m in \u001b[0;36mshow\u001b[0;34m(self, *args, **kwargs)\u001b[0m\n\u001b[1;32m   3395\u001b[0m         \u001b[0;32mimport\u001b[0m \u001b[0mplotly\u001b[0m\u001b[0;34m.\u001b[0m\u001b[0mio\u001b[0m \u001b[0;32mas\u001b[0m \u001b[0mpio\u001b[0m\u001b[0;34m\u001b[0m\u001b[0;34m\u001b[0m\u001b[0m\n\u001b[1;32m   3396\u001b[0m \u001b[0;34m\u001b[0m\u001b[0m\n\u001b[0;32m-> 3397\u001b[0;31m         \u001b[0;32mreturn\u001b[0m \u001b[0mpio\u001b[0m\u001b[0;34m.\u001b[0m\u001b[0mshow\u001b[0m\u001b[0;34m(\u001b[0m\u001b[0mself\u001b[0m\u001b[0;34m,\u001b[0m \u001b[0;34m*\u001b[0m\u001b[0margs\u001b[0m\u001b[0;34m,\u001b[0m \u001b[0;34m**\u001b[0m\u001b[0mkwargs\u001b[0m\u001b[0;34m)\u001b[0m\u001b[0;34m\u001b[0m\u001b[0;34m\u001b[0m\u001b[0m\n\u001b[0m\u001b[1;32m   3398\u001b[0m \u001b[0;34m\u001b[0m\u001b[0m\n\u001b[1;32m   3399\u001b[0m     \u001b[0;32mdef\u001b[0m \u001b[0mto_json\u001b[0m\u001b[0;34m(\u001b[0m\u001b[0mself\u001b[0m\u001b[0;34m,\u001b[0m \u001b[0;34m*\u001b[0m\u001b[0margs\u001b[0m\u001b[0;34m,\u001b[0m \u001b[0;34m**\u001b[0m\u001b[0mkwargs\u001b[0m\u001b[0;34m)\u001b[0m\u001b[0;34m:\u001b[0m\u001b[0;34m\u001b[0m\u001b[0;34m\u001b[0m\u001b[0m\n",
      "\u001b[0;32m~/.pyenv/versions/3.7.3/lib/python3.7/site-packages/plotly/io/_renderers.py\u001b[0m in \u001b[0;36mshow\u001b[0;34m(fig, renderer, validate, **kwargs)\u001b[0m\n\u001b[1;32m    396\u001b[0m         \u001b[0;32mif\u001b[0m \u001b[0;32mnot\u001b[0m \u001b[0mnbformat\u001b[0m \u001b[0;32mor\u001b[0m \u001b[0mLooseVersion\u001b[0m\u001b[0;34m(\u001b[0m\u001b[0mnbformat\u001b[0m\u001b[0;34m.\u001b[0m\u001b[0m__version__\u001b[0m\u001b[0;34m)\u001b[0m \u001b[0;34m<\u001b[0m \u001b[0mLooseVersion\u001b[0m\u001b[0;34m(\u001b[0m\u001b[0;34m\"4.2.0\"\u001b[0m\u001b[0;34m)\u001b[0m\u001b[0;34m:\u001b[0m\u001b[0;34m\u001b[0m\u001b[0;34m\u001b[0m\u001b[0m\n\u001b[1;32m    397\u001b[0m             raise ValueError(\n\u001b[0;32m--> 398\u001b[0;31m                 \u001b[0;34m\"Mime type rendering requires nbformat>=4.2.0 but it is not installed\"\u001b[0m\u001b[0;34m\u001b[0m\u001b[0;34m\u001b[0m\u001b[0m\n\u001b[0m\u001b[1;32m    399\u001b[0m             )\n\u001b[1;32m    400\u001b[0m \u001b[0;34m\u001b[0m\u001b[0m\n",
      "\u001b[0;31mValueError\u001b[0m: Mime type rendering requires nbformat>=4.2.0 but it is not installed"
     ]
    }
   ],
   "source": [
    "my_mapbox_access_token = 'pk.eyJ1IjoibG91aXNla2lya2hhbSIsImEiOiJjazYxMGJrZDcwOTdzM3RxaXQ4NG1jZHVlIn0.NeE7I8fu5zglEoeFc_eirQ'\n",
    "\n",
    "fig = go.Figure()\n",
    "\n",
    "# Collection Point\n",
    "fig.add_trace(go.Scattermapbox(\n",
    "        lat=[canababes.latitude],\n",
    "        lon=[canababes.longitude],\n",
    "        mode='markers',\n",
    "        marker=go.scattermapbox.Marker(\n",
    "            size=13,\n",
    "            color='#D05146',\n",
    "        ),\n",
    "        hoverinfo='text',\n",
    "        text=canababes.name,\n",
    "        name='Collection Point'\n",
    "    ))\n",
    "\n",
    "# Delivery Points\n",
    "fig.add_trace(go.Scattermapbox(\n",
    "        lat=delivery_points_df['latitude'],\n",
    "        lon=delivery_points_df['longitude'],\n",
    "        mode='markers',\n",
    "        marker=go.scattermapbox.Marker(\n",
    "            size=13,\n",
    "            color='#12727D',\n",
    "        ),\n",
    "        hoverinfo='text',\n",
    "        text=delivery_points_df['address'],\n",
    "        name='Delivery Point'\n",
    "    ))\n",
    "\n",
    "# Dispatchers start/end points\n",
    "fig.add_trace(go.Scattermapbox(\n",
    "        lat=dispatch_crew_df['latitude'],\n",
    "        lon=dispatch_crew_df['longitude'],\n",
    "        mode='markers',\n",
    "        marker=go.scattermapbox.Marker(\n",
    "            size=13,\n",
    "            color='#C8A3B5',\n",
    "        ),\n",
    "        hoverinfo='text',\n",
    "        text=dispatch_crew_df['address'],\n",
    "        name='Dispatcher Start/End Point',\n",
    "    ))\n",
    "\n",
    "# Map layout\n",
    "fig.update_layout(\n",
    "    autosize=True,\n",
    "    hovermode='closest',\n",
    "    mapbox=dict(\n",
    "        accesstoken=my_mapbox_access_token,\n",
    "        style='light',\n",
    "        center={'lon': np.mean(delivery_points_df['longitude']),\n",
    "                'lat': np.mean(delivery_points_df['latitude'])},\n",
    "        zoom=11\n",
    "    ),\n",
    ")\n",
    "\n",
    "fig.show()"
   ]
  },
  {
   "cell_type": "markdown",
   "metadata": {},
   "source": [
    "## Distance Matrix API"
   ]
  },
  {
   "cell_type": "code",
   "execution_count": 23,
   "metadata": {},
   "outputs": [],
   "source": [
    "# Set up API key for google distance matrix API\n",
    "API_KEY='xyz'"
   ]
  },
  {
   "cell_type": "code",
   "execution_count": 24,
   "metadata": {},
   "outputs": [
    {
     "data": {
      "text/html": [
       "<div>\n",
       "<style scoped>\n",
       "    .dataframe tbody tr th:only-of-type {\n",
       "        vertical-align: middle;\n",
       "    }\n",
       "\n",
       "    .dataframe tbody tr th {\n",
       "        vertical-align: top;\n",
       "    }\n",
       "\n",
       "    .dataframe thead th {\n",
       "        text-align: right;\n",
       "    }\n",
       "</style>\n",
       "<table border=\"1\" class=\"dataframe\">\n",
       "  <thead>\n",
       "    <tr style=\"text-align: right;\">\n",
       "      <th></th>\n",
       "      <th>id_num</th>\n",
       "      <th>name</th>\n",
       "      <th>address</th>\n",
       "      <th>postcode</th>\n",
       "      <th>latitude</th>\n",
       "      <th>longitude</th>\n",
       "    </tr>\n",
       "  </thead>\n",
       "  <tbody>\n",
       "    <tr>\n",
       "      <th>0</th>\n",
       "      <td>collect_01</td>\n",
       "      <td>Canababes</td>\n",
       "      <td>Unit 8 Hamlet Industrial Estate, 96 White Post...</td>\n",
       "      <td>E9 5EN</td>\n",
       "      <td>51.542540</td>\n",
       "      <td>-0.023000</td>\n",
       "    </tr>\n",
       "    <tr>\n",
       "      <th>1</th>\n",
       "      <td>delivery_01</td>\n",
       "      <td>Gia Marrgaret</td>\n",
       "      <td>94 Woolridge Way, Hackney, London</td>\n",
       "      <td>E9 6PR</td>\n",
       "      <td>51.542348</td>\n",
       "      <td>-0.049885</td>\n",
       "    </tr>\n",
       "    <tr>\n",
       "      <th>2</th>\n",
       "      <td>delivery_02</td>\n",
       "      <td>Sylvan Esso</td>\n",
       "      <td>7 Poole Rd, London</td>\n",
       "      <td>E9 7AE</td>\n",
       "      <td>51.543422</td>\n",
       "      <td>-0.045961</td>\n",
       "    </tr>\n",
       "    <tr>\n",
       "      <th>3</th>\n",
       "      <td>delivery_03</td>\n",
       "      <td>Eta James</td>\n",
       "      <td>51 Whiston Road, London</td>\n",
       "      <td>E2 8RZ</td>\n",
       "      <td>51.534488</td>\n",
       "      <td>-0.066195</td>\n",
       "    </tr>\n",
       "    <tr>\n",
       "      <th>4</th>\n",
       "      <td>delivery_04</td>\n",
       "      <td>Chet Baker</td>\n",
       "      <td>Adeyfield House, Cranwood St, Hoxton, London</td>\n",
       "      <td>EC1V 9PD</td>\n",
       "      <td>51.526541</td>\n",
       "      <td>-0.086816</td>\n",
       "    </tr>\n",
       "    <tr>\n",
       "      <th>5</th>\n",
       "      <td>delivery_05</td>\n",
       "      <td>Louis Armstrong</td>\n",
       "      <td>131 Highbury Quadrant Highbury East, London</td>\n",
       "      <td>N5 2TG</td>\n",
       "      <td>51.558769</td>\n",
       "      <td>-0.095979</td>\n",
       "    </tr>\n",
       "    <tr>\n",
       "      <th>6</th>\n",
       "      <td>delivery_06</td>\n",
       "      <td>Aretha Franklin</td>\n",
       "      <td>23 Fladbury Rd, London</td>\n",
       "      <td>N15 6SB</td>\n",
       "      <td>51.578274</td>\n",
       "      <td>-0.085052</td>\n",
       "    </tr>\n",
       "    <tr>\n",
       "      <th>7</th>\n",
       "      <td>delivery_07</td>\n",
       "      <td>Akira Kosemura</td>\n",
       "      <td>10 Ladbroke House 62-66 Highbury Grove, Highbu...</td>\n",
       "      <td>N5 2AG</td>\n",
       "      <td>51.553173</td>\n",
       "      <td>-0.097935</td>\n",
       "    </tr>\n",
       "    <tr>\n",
       "      <th>8</th>\n",
       "      <td>delivery_08</td>\n",
       "      <td>Ella Fitzgerald</td>\n",
       "      <td>45 Lampard Grove, Cazenove, London</td>\n",
       "      <td>N16 6XB</td>\n",
       "      <td>51.567425</td>\n",
       "      <td>-0.070328</td>\n",
       "    </tr>\n",
       "    <tr>\n",
       "      <th>9</th>\n",
       "      <td>delivery_09</td>\n",
       "      <td>Nancy Wilson</td>\n",
       "      <td>17 Harrowgate Rd, London</td>\n",
       "      <td>E9 7BS</td>\n",
       "      <td>51.543033</td>\n",
       "      <td>-0.038413</td>\n",
       "    </tr>\n",
       "    <tr>\n",
       "      <th>10</th>\n",
       "      <td>delivery_10</td>\n",
       "      <td>Alice Coltrane</td>\n",
       "      <td>22 Turner House, Corbyn St, Finsbury Park, London</td>\n",
       "      <td>N4 3DD</td>\n",
       "      <td>51.568494</td>\n",
       "      <td>-0.117942</td>\n",
       "    </tr>\n",
       "    <tr>\n",
       "      <th>11</th>\n",
       "      <td>dispatch_01</td>\n",
       "      <td>Louise Kirkham</td>\n",
       "      <td>25 Coniston Walk London</td>\n",
       "      <td>E9 6EP</td>\n",
       "      <td>51.550955</td>\n",
       "      <td>-0.047934</td>\n",
       "    </tr>\n",
       "    <tr>\n",
       "      <th>12</th>\n",
       "      <td>dispatch_02</td>\n",
       "      <td>Erykah Badu</td>\n",
       "      <td>32 Lansdowne Dr, Hackney, London</td>\n",
       "      <td>E8 3EG</td>\n",
       "      <td>51.543314</td>\n",
       "      <td>-0.065094</td>\n",
       "    </tr>\n",
       "  </tbody>\n",
       "</table>\n",
       "</div>"
      ],
      "text/plain": [
       "         id_num             name  \\\n",
       "0    collect_01        Canababes   \n",
       "1   delivery_01    Gia Marrgaret   \n",
       "2   delivery_02      Sylvan Esso   \n",
       "3   delivery_03        Eta James   \n",
       "4   delivery_04       Chet Baker   \n",
       "5   delivery_05  Louis Armstrong   \n",
       "6   delivery_06  Aretha Franklin   \n",
       "7   delivery_07   Akira Kosemura   \n",
       "8   delivery_08  Ella Fitzgerald   \n",
       "9   delivery_09     Nancy Wilson   \n",
       "10  delivery_10   Alice Coltrane   \n",
       "11  dispatch_01   Louise Kirkham   \n",
       "12  dispatch_02      Erykah Badu   \n",
       "\n",
       "                                              address  postcode   latitude  \\\n",
       "0   Unit 8 Hamlet Industrial Estate, 96 White Post...    E9 5EN  51.542540   \n",
       "1                   94 Woolridge Way, Hackney, London    E9 6PR  51.542348   \n",
       "2                                  7 Poole Rd, London    E9 7AE  51.543422   \n",
       "3                             51 Whiston Road, London    E2 8RZ  51.534488   \n",
       "4        Adeyfield House, Cranwood St, Hoxton, London  EC1V 9PD  51.526541   \n",
       "5         131 Highbury Quadrant Highbury East, London    N5 2TG  51.558769   \n",
       "6                              23 Fladbury Rd, London   N15 6SB  51.578274   \n",
       "7   10 Ladbroke House 62-66 Highbury Grove, Highbu...    N5 2AG  51.553173   \n",
       "8                  45 Lampard Grove, Cazenove, London   N16 6XB  51.567425   \n",
       "9                            17 Harrowgate Rd, London    E9 7BS  51.543033   \n",
       "10  22 Turner House, Corbyn St, Finsbury Park, London    N4 3DD  51.568494   \n",
       "11                            25 Coniston Walk London    E9 6EP  51.550955   \n",
       "12                   32 Lansdowne Dr, Hackney, London    E8 3EG  51.543314   \n",
       "\n",
       "    longitude  \n",
       "0   -0.023000  \n",
       "1   -0.049885  \n",
       "2   -0.045961  \n",
       "3   -0.066195  \n",
       "4   -0.086816  \n",
       "5   -0.095979  \n",
       "6   -0.085052  \n",
       "7   -0.097935  \n",
       "8   -0.070328  \n",
       "9   -0.038413  \n",
       "10  -0.117942  \n",
       "11  -0.047934  \n",
       "12  -0.065094  "
      ]
     },
     "execution_count": 24,
     "metadata": {},
     "output_type": "execute_result"
    }
   ],
   "source": [
    "# Need to combine all locations (collection point, dispatcher points and delivery points) into a single dataframe\n",
    "\n",
    "# Combine delivery and dispatch dataframes\n",
    "all_locations_df = pd.concat([collection_point_df, delivery_points_df, dispatch_crew_df, ]).reset_index(drop=True)\n",
    "all_locations_df"
   ]
  },
  {
   "cell_type": "code",
   "execution_count": 25,
   "metadata": {},
   "outputs": [
    {
     "data": {
      "text/html": [
       "<div>\n",
       "<style scoped>\n",
       "    .dataframe tbody tr th:only-of-type {\n",
       "        vertical-align: middle;\n",
       "    }\n",
       "\n",
       "    .dataframe tbody tr th {\n",
       "        vertical-align: top;\n",
       "    }\n",
       "\n",
       "    .dataframe thead th {\n",
       "        text-align: right;\n",
       "    }\n",
       "</style>\n",
       "<table border=\"1\" class=\"dataframe\">\n",
       "  <thead>\n",
       "    <tr style=\"text-align: right;\">\n",
       "      <th></th>\n",
       "      <th>id_num</th>\n",
       "      <th>name</th>\n",
       "      <th>address</th>\n",
       "      <th>postcode</th>\n",
       "      <th>latitude</th>\n",
       "      <th>longitude</th>\n",
       "      <th>api_address</th>\n",
       "    </tr>\n",
       "  </thead>\n",
       "  <tbody>\n",
       "    <tr>\n",
       "      <th>0</th>\n",
       "      <td>collect_01</td>\n",
       "      <td>Canababes</td>\n",
       "      <td>Unit 8 Hamlet Industrial Estate, 96 White Post...</td>\n",
       "      <td>E9 5EN</td>\n",
       "      <td>51.542540</td>\n",
       "      <td>-0.023000</td>\n",
       "      <td>Unit+8+Hamlet+Industrial+Estate+96+White+Post+...</td>\n",
       "    </tr>\n",
       "    <tr>\n",
       "      <th>1</th>\n",
       "      <td>delivery_01</td>\n",
       "      <td>Gia Marrgaret</td>\n",
       "      <td>94 Woolridge Way, Hackney, London</td>\n",
       "      <td>E9 6PR</td>\n",
       "      <td>51.542348</td>\n",
       "      <td>-0.049885</td>\n",
       "      <td>94+Woolridge+Way+Hackney+London+E9+6PR</td>\n",
       "    </tr>\n",
       "    <tr>\n",
       "      <th>2</th>\n",
       "      <td>delivery_02</td>\n",
       "      <td>Sylvan Esso</td>\n",
       "      <td>7 Poole Rd, London</td>\n",
       "      <td>E9 7AE</td>\n",
       "      <td>51.543422</td>\n",
       "      <td>-0.045961</td>\n",
       "      <td>7+Poole+Rd+London+E9+7AE</td>\n",
       "    </tr>\n",
       "    <tr>\n",
       "      <th>3</th>\n",
       "      <td>delivery_03</td>\n",
       "      <td>Eta James</td>\n",
       "      <td>51 Whiston Road, London</td>\n",
       "      <td>E2 8RZ</td>\n",
       "      <td>51.534488</td>\n",
       "      <td>-0.066195</td>\n",
       "      <td>51+Whiston+Road+London+E2+8RZ</td>\n",
       "    </tr>\n",
       "    <tr>\n",
       "      <th>4</th>\n",
       "      <td>delivery_04</td>\n",
       "      <td>Chet Baker</td>\n",
       "      <td>Adeyfield House, Cranwood St, Hoxton, London</td>\n",
       "      <td>EC1V 9PD</td>\n",
       "      <td>51.526541</td>\n",
       "      <td>-0.086816</td>\n",
       "      <td>Adeyfield+House+Cranwood+St+Hoxton+London+EC1V...</td>\n",
       "    </tr>\n",
       "    <tr>\n",
       "      <th>5</th>\n",
       "      <td>delivery_05</td>\n",
       "      <td>Louis Armstrong</td>\n",
       "      <td>131 Highbury Quadrant Highbury East, London</td>\n",
       "      <td>N5 2TG</td>\n",
       "      <td>51.558769</td>\n",
       "      <td>-0.095979</td>\n",
       "      <td>131+Highbury+Quadrant+Highbury+East+London+N5+2TG</td>\n",
       "    </tr>\n",
       "    <tr>\n",
       "      <th>6</th>\n",
       "      <td>delivery_06</td>\n",
       "      <td>Aretha Franklin</td>\n",
       "      <td>23 Fladbury Rd, London</td>\n",
       "      <td>N15 6SB</td>\n",
       "      <td>51.578274</td>\n",
       "      <td>-0.085052</td>\n",
       "      <td>23+Fladbury+Rd+London+N15+6SB</td>\n",
       "    </tr>\n",
       "    <tr>\n",
       "      <th>7</th>\n",
       "      <td>delivery_07</td>\n",
       "      <td>Akira Kosemura</td>\n",
       "      <td>10 Ladbroke House 62-66 Highbury Grove, Highbu...</td>\n",
       "      <td>N5 2AG</td>\n",
       "      <td>51.553173</td>\n",
       "      <td>-0.097935</td>\n",
       "      <td>10+Ladbroke+House+62-66+Highbury+Grove+Highbur...</td>\n",
       "    </tr>\n",
       "    <tr>\n",
       "      <th>8</th>\n",
       "      <td>delivery_08</td>\n",
       "      <td>Ella Fitzgerald</td>\n",
       "      <td>45 Lampard Grove, Cazenove, London</td>\n",
       "      <td>N16 6XB</td>\n",
       "      <td>51.567425</td>\n",
       "      <td>-0.070328</td>\n",
       "      <td>45+Lampard+Grove+Cazenove+London+N16+6XB</td>\n",
       "    </tr>\n",
       "    <tr>\n",
       "      <th>9</th>\n",
       "      <td>delivery_09</td>\n",
       "      <td>Nancy Wilson</td>\n",
       "      <td>17 Harrowgate Rd, London</td>\n",
       "      <td>E9 7BS</td>\n",
       "      <td>51.543033</td>\n",
       "      <td>-0.038413</td>\n",
       "      <td>17+Harrowgate+Rd+London+E9+7BS</td>\n",
       "    </tr>\n",
       "    <tr>\n",
       "      <th>10</th>\n",
       "      <td>delivery_10</td>\n",
       "      <td>Alice Coltrane</td>\n",
       "      <td>22 Turner House, Corbyn St, Finsbury Park, London</td>\n",
       "      <td>N4 3DD</td>\n",
       "      <td>51.568494</td>\n",
       "      <td>-0.117942</td>\n",
       "      <td>22+Turner+House+Corbyn+St+Finsbury+Park+London...</td>\n",
       "    </tr>\n",
       "    <tr>\n",
       "      <th>11</th>\n",
       "      <td>dispatch_01</td>\n",
       "      <td>Louise Kirkham</td>\n",
       "      <td>25 Coniston Walk London</td>\n",
       "      <td>E9 6EP</td>\n",
       "      <td>51.550955</td>\n",
       "      <td>-0.047934</td>\n",
       "      <td>25+Coniston+Walk+London+E9+6EP</td>\n",
       "    </tr>\n",
       "    <tr>\n",
       "      <th>12</th>\n",
       "      <td>dispatch_02</td>\n",
       "      <td>Erykah Badu</td>\n",
       "      <td>32 Lansdowne Dr, Hackney, London</td>\n",
       "      <td>E8 3EG</td>\n",
       "      <td>51.543314</td>\n",
       "      <td>-0.065094</td>\n",
       "      <td>32+Lansdowne+Dr+Hackney+London+E8+3EG</td>\n",
       "    </tr>\n",
       "  </tbody>\n",
       "</table>\n",
       "</div>"
      ],
      "text/plain": [
       "         id_num             name  \\\n",
       "0    collect_01        Canababes   \n",
       "1   delivery_01    Gia Marrgaret   \n",
       "2   delivery_02      Sylvan Esso   \n",
       "3   delivery_03        Eta James   \n",
       "4   delivery_04       Chet Baker   \n",
       "5   delivery_05  Louis Armstrong   \n",
       "6   delivery_06  Aretha Franklin   \n",
       "7   delivery_07   Akira Kosemura   \n",
       "8   delivery_08  Ella Fitzgerald   \n",
       "9   delivery_09     Nancy Wilson   \n",
       "10  delivery_10   Alice Coltrane   \n",
       "11  dispatch_01   Louise Kirkham   \n",
       "12  dispatch_02      Erykah Badu   \n",
       "\n",
       "                                              address  postcode   latitude  \\\n",
       "0   Unit 8 Hamlet Industrial Estate, 96 White Post...    E9 5EN  51.542540   \n",
       "1                   94 Woolridge Way, Hackney, London    E9 6PR  51.542348   \n",
       "2                                  7 Poole Rd, London    E9 7AE  51.543422   \n",
       "3                             51 Whiston Road, London    E2 8RZ  51.534488   \n",
       "4        Adeyfield House, Cranwood St, Hoxton, London  EC1V 9PD  51.526541   \n",
       "5         131 Highbury Quadrant Highbury East, London    N5 2TG  51.558769   \n",
       "6                              23 Fladbury Rd, London   N15 6SB  51.578274   \n",
       "7   10 Ladbroke House 62-66 Highbury Grove, Highbu...    N5 2AG  51.553173   \n",
       "8                  45 Lampard Grove, Cazenove, London   N16 6XB  51.567425   \n",
       "9                            17 Harrowgate Rd, London    E9 7BS  51.543033   \n",
       "10  22 Turner House, Corbyn St, Finsbury Park, London    N4 3DD  51.568494   \n",
       "11                            25 Coniston Walk London    E9 6EP  51.550955   \n",
       "12                   32 Lansdowne Dr, Hackney, London    E8 3EG  51.543314   \n",
       "\n",
       "    longitude                                        api_address  \n",
       "0   -0.023000  Unit+8+Hamlet+Industrial+Estate+96+White+Post+...  \n",
       "1   -0.049885             94+Woolridge+Way+Hackney+London+E9+6PR  \n",
       "2   -0.045961                           7+Poole+Rd+London+E9+7AE  \n",
       "3   -0.066195                      51+Whiston+Road+London+E2+8RZ  \n",
       "4   -0.086816  Adeyfield+House+Cranwood+St+Hoxton+London+EC1V...  \n",
       "5   -0.095979  131+Highbury+Quadrant+Highbury+East+London+N5+2TG  \n",
       "6   -0.085052                      23+Fladbury+Rd+London+N15+6SB  \n",
       "7   -0.097935  10+Ladbroke+House+62-66+Highbury+Grove+Highbur...  \n",
       "8   -0.070328           45+Lampard+Grove+Cazenove+London+N16+6XB  \n",
       "9   -0.038413                     17+Harrowgate+Rd+London+E9+7BS  \n",
       "10  -0.117942  22+Turner+House+Corbyn+St+Finsbury+Park+London...  \n",
       "11  -0.047934                     25+Coniston+Walk+London+E9+6EP  \n",
       "12  -0.065094              32+Lansdowne+Dr+Hackney+London+E8+3EG  "
      ]
     },
     "execution_count": 25,
     "metadata": {},
     "output_type": "execute_result"
    }
   ],
   "source": [
    "# Add address for distance matrix api column\n",
    "\n",
    "all_locations_df['api_address'] = all_locations_df['address'] + ' ' + all_locations_df['postcode']\n",
    "all_locations_df['api_address'] = all_locations_df['api_address'].str.replace(',', '').str.replace(' ', '+')\n",
    "all_locations_df"
   ]
  },
  {
   "cell_type": "code",
   "execution_count": 26,
   "metadata": {},
   "outputs": [
    {
     "data": {
      "text/html": [
       "<div>\n",
       "<style scoped>\n",
       "    .dataframe tbody tr th:only-of-type {\n",
       "        vertical-align: middle;\n",
       "    }\n",
       "\n",
       "    .dataframe tbody tr th {\n",
       "        vertical-align: top;\n",
       "    }\n",
       "\n",
       "    .dataframe thead th {\n",
       "        text-align: right;\n",
       "    }\n",
       "</style>\n",
       "<table border=\"1\" class=\"dataframe\">\n",
       "  <thead>\n",
       "    <tr style=\"text-align: right;\">\n",
       "      <th></th>\n",
       "      <th>id_num</th>\n",
       "      <th>name</th>\n",
       "      <th>address</th>\n",
       "      <th>postcode</th>\n",
       "      <th>latitude</th>\n",
       "      <th>longitude</th>\n",
       "      <th>api_address</th>\n",
       "    </tr>\n",
       "  </thead>\n",
       "  <tbody>\n",
       "    <tr>\n",
       "      <th>0</th>\n",
       "      <td>collect_01</td>\n",
       "      <td>Canababes</td>\n",
       "      <td>Unit 8 Hamlet Industrial Estate, 96 White Post...</td>\n",
       "      <td>E9 5EN</td>\n",
       "      <td>51.542540</td>\n",
       "      <td>-0.023000</td>\n",
       "      <td>Unit+8+Hamlet+Industrial+Estate+96+White+Post+...</td>\n",
       "    </tr>\n",
       "    <tr>\n",
       "      <th>1</th>\n",
       "      <td>delivery_01</td>\n",
       "      <td>Gia Marrgaret</td>\n",
       "      <td>94 Woolridge Way, Hackney, London</td>\n",
       "      <td>E9 6PR</td>\n",
       "      <td>51.542348</td>\n",
       "      <td>-0.049885</td>\n",
       "      <td>94+Woolridge+Way+Hackney+London+E9+6PR</td>\n",
       "    </tr>\n",
       "    <tr>\n",
       "      <th>2</th>\n",
       "      <td>delivery_02</td>\n",
       "      <td>Sylvan Esso</td>\n",
       "      <td>7 Poole Rd, London</td>\n",
       "      <td>E9 7AE</td>\n",
       "      <td>51.543422</td>\n",
       "      <td>-0.045961</td>\n",
       "      <td>7+Poole+Rd+London+E9+7AE</td>\n",
       "    </tr>\n",
       "    <tr>\n",
       "      <th>3</th>\n",
       "      <td>delivery_03</td>\n",
       "      <td>Eta James</td>\n",
       "      <td>51 Whiston Road, London</td>\n",
       "      <td>E2 8RZ</td>\n",
       "      <td>51.534488</td>\n",
       "      <td>-0.066195</td>\n",
       "      <td>51+Whiston+Road+London+E2+8RZ</td>\n",
       "    </tr>\n",
       "    <tr>\n",
       "      <th>4</th>\n",
       "      <td>delivery_04</td>\n",
       "      <td>Chet Baker</td>\n",
       "      <td>Adeyfield House, Cranwood St, Hoxton, London</td>\n",
       "      <td>EC1V 9PD</td>\n",
       "      <td>51.526541</td>\n",
       "      <td>-0.086816</td>\n",
       "      <td>Adeyfield+House+Cranwood+St+Hoxton+London+EC1V...</td>\n",
       "    </tr>\n",
       "    <tr>\n",
       "      <th>5</th>\n",
       "      <td>delivery_05</td>\n",
       "      <td>Louis Armstrong</td>\n",
       "      <td>131 Highbury Quadrant Highbury East, London</td>\n",
       "      <td>N5 2TG</td>\n",
       "      <td>51.558769</td>\n",
       "      <td>-0.095979</td>\n",
       "      <td>131+Highbury+Quadrant+Highbury+East+London+N5+2TG</td>\n",
       "    </tr>\n",
       "    <tr>\n",
       "      <th>6</th>\n",
       "      <td>delivery_06</td>\n",
       "      <td>Aretha Franklin</td>\n",
       "      <td>23 Fladbury Rd, London</td>\n",
       "      <td>N15 6SB</td>\n",
       "      <td>51.578274</td>\n",
       "      <td>-0.085052</td>\n",
       "      <td>23+Fladbury+Rd+London+N15+6SB</td>\n",
       "    </tr>\n",
       "    <tr>\n",
       "      <th>7</th>\n",
       "      <td>delivery_07</td>\n",
       "      <td>Akira Kosemura</td>\n",
       "      <td>10 Ladbroke House 62-66 Highbury Grove, Highbu...</td>\n",
       "      <td>N5 2AG</td>\n",
       "      <td>51.553173</td>\n",
       "      <td>-0.097935</td>\n",
       "      <td>10+Ladbroke+House+62-66+Highbury+Grove+Highbur...</td>\n",
       "    </tr>\n",
       "    <tr>\n",
       "      <th>8</th>\n",
       "      <td>delivery_08</td>\n",
       "      <td>Ella Fitzgerald</td>\n",
       "      <td>45 Lampard Grove, Cazenove, London</td>\n",
       "      <td>N16 6XB</td>\n",
       "      <td>51.567425</td>\n",
       "      <td>-0.070328</td>\n",
       "      <td>45+Lampard+Grove+Cazenove+London+N16+6XB</td>\n",
       "    </tr>\n",
       "    <tr>\n",
       "      <th>9</th>\n",
       "      <td>delivery_09</td>\n",
       "      <td>Nancy Wilson</td>\n",
       "      <td>17 Harrowgate Rd, London</td>\n",
       "      <td>E9 7BS</td>\n",
       "      <td>51.543033</td>\n",
       "      <td>-0.038413</td>\n",
       "      <td>17+Harrowgate+Rd+London+E9+7BS</td>\n",
       "    </tr>\n",
       "    <tr>\n",
       "      <th>10</th>\n",
       "      <td>delivery_10</td>\n",
       "      <td>Alice Coltrane</td>\n",
       "      <td>22 Turner House, Corbyn St, Finsbury Park, London</td>\n",
       "      <td>N4 3DD</td>\n",
       "      <td>51.568494</td>\n",
       "      <td>-0.117942</td>\n",
       "      <td>22+Turner+House+Corbyn+St+Finsbury+Park+London...</td>\n",
       "    </tr>\n",
       "  </tbody>\n",
       "</table>\n",
       "</div>"
      ],
      "text/plain": [
       "         id_num             name  \\\n",
       "0    collect_01        Canababes   \n",
       "1   delivery_01    Gia Marrgaret   \n",
       "2   delivery_02      Sylvan Esso   \n",
       "3   delivery_03        Eta James   \n",
       "4   delivery_04       Chet Baker   \n",
       "5   delivery_05  Louis Armstrong   \n",
       "6   delivery_06  Aretha Franklin   \n",
       "7   delivery_07   Akira Kosemura   \n",
       "8   delivery_08  Ella Fitzgerald   \n",
       "9   delivery_09     Nancy Wilson   \n",
       "10  delivery_10   Alice Coltrane   \n",
       "\n",
       "                                              address  postcode   latitude  \\\n",
       "0   Unit 8 Hamlet Industrial Estate, 96 White Post...    E9 5EN  51.542540   \n",
       "1                   94 Woolridge Way, Hackney, London    E9 6PR  51.542348   \n",
       "2                                  7 Poole Rd, London    E9 7AE  51.543422   \n",
       "3                             51 Whiston Road, London    E2 8RZ  51.534488   \n",
       "4        Adeyfield House, Cranwood St, Hoxton, London  EC1V 9PD  51.526541   \n",
       "5         131 Highbury Quadrant Highbury East, London    N5 2TG  51.558769   \n",
       "6                              23 Fladbury Rd, London   N15 6SB  51.578274   \n",
       "7   10 Ladbroke House 62-66 Highbury Grove, Highbu...    N5 2AG  51.553173   \n",
       "8                  45 Lampard Grove, Cazenove, London   N16 6XB  51.567425   \n",
       "9                            17 Harrowgate Rd, London    E9 7BS  51.543033   \n",
       "10  22 Turner House, Corbyn St, Finsbury Park, London    N4 3DD  51.568494   \n",
       "\n",
       "    longitude                                        api_address  \n",
       "0   -0.023000  Unit+8+Hamlet+Industrial+Estate+96+White+Post+...  \n",
       "1   -0.049885             94+Woolridge+Way+Hackney+London+E9+6PR  \n",
       "2   -0.045961                           7+Poole+Rd+London+E9+7AE  \n",
       "3   -0.066195                      51+Whiston+Road+London+E2+8RZ  \n",
       "4   -0.086816  Adeyfield+House+Cranwood+St+Hoxton+London+EC1V...  \n",
       "5   -0.095979  131+Highbury+Quadrant+Highbury+East+London+N5+2TG  \n",
       "6   -0.085052                      23+Fladbury+Rd+London+N15+6SB  \n",
       "7   -0.097935  10+Ladbroke+House+62-66+Highbury+Grove+Highbur...  \n",
       "8   -0.070328           45+Lampard+Grove+Cazenove+London+N16+6XB  \n",
       "9   -0.038413                     17+Harrowgate+Rd+London+E9+7BS  \n",
       "10  -0.117942  22+Turner+House+Corbyn+St+Finsbury+Park+London...  "
      ]
     },
     "execution_count": 26,
     "metadata": {},
     "output_type": "execute_result"
    }
   ],
   "source": [
    "# Simplify problem, ignore dispatcher addresses for now:\n",
    "\n",
    "basic_locations_df = all_locations_df[~all_locations_df['id_num'].str.contains('dispatch')]\n",
    "basic_locations_df"
   ]
  },
  {
   "cell_type": "code",
   "execution_count": 27,
   "metadata": {},
   "outputs": [],
   "source": [
    "def create_distance_matrix(data):\n",
    "    addresses = data[\"addresses\"]\n",
    "\n",
    "    # Distance Matrix API only accepts 100 elements per request, so get rows in multiple requests.\n",
    "    max_elements = 100\n",
    "    num_addresses = len(addresses) # 16 in this example.\n",
    "    \n",
    "    # Maximum number of rows that can be computed per request (6 in this example).\n",
    "    max_rows = max_elements // num_addresses\n",
    "    \n",
    "    # num_addresses = q * max_rows + r (q = 2 and r = 4 in this example).\n",
    "    q, r = divmod(num_addresses, max_rows)\n",
    "    dest_addresses = addresses\n",
    "    distance_matrix = []\n",
    "    \n",
    "    # Send q requests, returning max_rows rows per request.\n",
    "    for i in range(q):\n",
    "        origin_addresses = addresses[i * max_rows: (i + 1) * max_rows]\n",
    "        response = send_request(origin_addresses, dest_addresses, API_KEY)\n",
    "        distance_matrix += build_distance_matrix(response)\n",
    "\n",
    "    # Get the remaining remaining r rows, if necessary.\n",
    "    if r > 0:\n",
    "        origin_addresses = addresses[q * max_rows: q * max_rows + r]\n",
    "        response = send_request(origin_addresses, dest_addresses, API_KEY)\n",
    "        distance_matrix += build_distance_matrix(response)\n",
    "        return distance_matrix"
   ]
  },
  {
   "cell_type": "code",
   "execution_count": 28,
   "metadata": {},
   "outputs": [],
   "source": [
    "def send_request(origin_addresses, dest_addresses, API_key):\n",
    "    \"\"\" Build and send request for the given origin and destination addresses.\"\"\"\n",
    "    \n",
    "    def build_address_str(addresses):\n",
    "        # Build a pipe-separated string of addresses\n",
    "        address_str = ''\n",
    "        \n",
    "        for i in range(len(addresses) - 1):\n",
    "            address_str += addresses[i] + '|'\n",
    "        address_str += addresses[-1]\n",
    "        return address_str\n",
    "\n",
    "    request = 'https://maps.googleapis.com/maps/api/distancematrix/json?units=imperial'\n",
    "    origin_address_str = build_address_str(origin_addresses)\n",
    "    dest_address_str = build_address_str(dest_addresses)\n",
    "    \n",
    "    request = request + '&origins=' + origin_address_str + '&destinations=' + \\\n",
    "                       dest_address_str + '&key=' + API_KEY\n",
    "    \n",
    "    jsonResult = urllib.request.urlopen(request).read()\n",
    "    response = json.loads(jsonResult)\n",
    "    \n",
    "    return response"
   ]
  },
  {
   "cell_type": "code",
   "execution_count": 29,
   "metadata": {},
   "outputs": [],
   "source": [
    "def build_distance_matrix(response):\n",
    "    distance_matrix = []\n",
    "\n",
    "    for row in response['rows']:\n",
    "        row_list = [row['elements'][j]['distance']['value'] for j in range(len(row['elements']))]\n",
    "        distance_matrix.append(row_list)\n",
    "    \n",
    "    return distance_matrix"
   ]
  },
  {
   "cell_type": "code",
   "execution_count": 30,
   "metadata": {},
   "outputs": [],
   "source": [
    "def create_data():\n",
    "    \"\"\"Creates the data.\"\"\"\n",
    "    data = {}\n",
    "    data['addresses'] = list(basic_locations_df['api_address'])\n",
    "    return data"
   ]
  },
  {
   "cell_type": "code",
   "execution_count": 31,
   "metadata": {},
   "outputs": [],
   "source": [
    "data = create_data()"
   ]
  },
  {
   "cell_type": "code",
   "execution_count": 32,
   "metadata": {},
   "outputs": [
    {
     "data": {
      "text/plain": [
       "['Unit+8+Hamlet+Industrial+Estate+96+White+Post+Ln+London+E9+5EN',\n",
       " '94+Woolridge+Way+Hackney+London+E9+6PR',\n",
       " '7+Poole+Rd+London+E9+7AE',\n",
       " '51+Whiston+Road+London+E2+8RZ',\n",
       " 'Adeyfield+House+Cranwood+St+Hoxton+London+EC1V+9PD',\n",
       " '131+Highbury+Quadrant+Highbury+East+London+N5+2TG',\n",
       " '23+Fladbury+Rd+London+N15+6SB',\n",
       " '10+Ladbroke+House+62-66+Highbury+Grove+Highbury+East+London+N5+2AG',\n",
       " '45+Lampard+Grove+Cazenove+London+N16+6XB',\n",
       " '17+Harrowgate+Rd+London+E9+7BS',\n",
       " '22+Turner+House+Corbyn+St+Finsbury+Park+London+N4+3DD']"
      ]
     },
     "execution_count": 32,
     "metadata": {},
     "output_type": "execute_result"
    }
   ],
   "source": [
    "addresses = data['addresses']\n",
    "addresses"
   ]
  },
  {
   "cell_type": "code",
   "execution_count": 33,
   "metadata": {},
   "outputs": [
    {
     "data": {
      "text/plain": [
       "[]"
      ]
     },
     "execution_count": 33,
     "metadata": {},
     "output_type": "execute_result"
    }
   ],
   "source": [
    "distance_matrix = create_distance_matrix(data)\n",
    "distance_matrix"
   ]
  },
  {
   "cell_type": "markdown",
   "metadata": {},
   "source": [
    "## VRP"
   ]
  },
  {
   "cell_type": "code",
   "execution_count": 19,
   "metadata": {},
   "outputs": [],
   "source": [
    "def create_data_model():\n",
    "    \"\"\"Stores the data for the problem.\"\"\"\n",
    "    data = {}\n",
    "    data['distance_matrix'] = distance_matrix\n",
    "    data['num_vehicles'] = len(dispatch_crew_df)\n",
    "    data['depot'] = 0 # index of collection point location\n",
    "    return data"
   ]
  },
  {
   "cell_type": "code",
   "execution_count": 20,
   "metadata": {},
   "outputs": [],
   "source": [
    "def print_solution(data, manager, routing, solution):\n",
    "    \"\"\"Prints solution on console.\n",
    "    Also creates solution dictionary\n",
    "    \"\"\"\n",
    "    \n",
    "    solution_dict = {}\n",
    "    \n",
    "    max_route_distance = 0\n",
    "    \n",
    "    for vehicle_id in range(data['num_vehicles']):\n",
    "        \n",
    "        index = routing.Start(vehicle_id)\n",
    "        plan_output = 'Route for vehicle {}:\\n'.format(vehicle_id)\n",
    "        route_distance = 0\n",
    "        \n",
    "        while not routing.IsEnd(index):\n",
    "            plan_output += ' {} -> '.format(manager.IndexToNode(index))\n",
    "            previous_index = index\n",
    "            index = solution.Value(routing.NextVar(index))\n",
    "            route_distance += routing.GetArcCostForVehicle(\n",
    "                previous_index, index, vehicle_id)\n",
    "        \n",
    "        plan_output += '{}\\n'.format(manager.IndexToNode(index))\n",
    "        plan_output += 'Distance of the route: {}m\\n'.format(route_distance)\n",
    "        print(plan_output)\n",
    "        \n",
    "        max_route_distance = max(route_distance, max_route_distance)\n",
    "    \n",
    "    print('Maximum of the route distances: {}m'.format(max_route_distance))"
   ]
  },
  {
   "cell_type": "code",
   "execution_count": null,
   "metadata": {},
   "outputs": [],
   "source": []
  },
  {
   "cell_type": "code",
   "execution_count": null,
   "metadata": {},
   "outputs": [],
   "source": []
  },
  {
   "cell_type": "code",
   "execution_count": 21,
   "metadata": {},
   "outputs": [],
   "source": [
    "# Instantiate the data problem.\n",
    "data = create_data_model()"
   ]
  },
  {
   "cell_type": "code",
   "execution_count": 22,
   "metadata": {},
   "outputs": [
    {
     "data": {
      "text/plain": [
       "<ortools.constraint_solver.pywrapcp.RoutingIndexManager; proxy of <Swig Object of type 'operations_research::RoutingIndexManager *' at 0x11e325180> >"
      ]
     },
     "execution_count": 22,
     "metadata": {},
     "output_type": "execute_result"
    }
   ],
   "source": [
    "# Create the routing index manager.\n",
    "manager = pywrapcp.RoutingIndexManager(len(data['distance_matrix']),\n",
    "                                           data['num_vehicles'], data['depot'])\n",
    "manager"
   ]
  },
  {
   "cell_type": "code",
   "execution_count": 23,
   "metadata": {},
   "outputs": [
    {
     "data": {
      "text/plain": [
       "<ortools.constraint_solver.pywrapcp.RoutingModel; proxy of <Swig Object of type 'operations_research::RoutingModel *' at 0x11e2fe0c0> >"
      ]
     },
     "execution_count": 23,
     "metadata": {},
     "output_type": "execute_result"
    }
   ],
   "source": [
    "# Create Routing Model.\n",
    "routing = pywrapcp.RoutingModel(manager)\n",
    "routing"
   ]
  },
  {
   "cell_type": "code",
   "execution_count": 24,
   "metadata": {},
   "outputs": [],
   "source": [
    "# Create and register a transit callback.\n",
    "def distance_callback(from_index, to_index):\n",
    "    \"\"\"Returns the distance between the two nodes.\"\"\"\n",
    "    \n",
    "    # Convert from routing variable Index to distance matrix NodeIndex.\n",
    "    from_node = manager.IndexToNode(from_index)\n",
    "    to_node = manager.IndexToNode(to_index)\n",
    "    \n",
    "    return data['distance_matrix'][from_node][to_node]"
   ]
  },
  {
   "cell_type": "code",
   "execution_count": 25,
   "metadata": {},
   "outputs": [
    {
     "data": {
      "text/plain": [
       "1"
      ]
     },
     "execution_count": 25,
     "metadata": {},
     "output_type": "execute_result"
    }
   ],
   "source": [
    "transit_callback_index = routing.RegisterTransitCallback(distance_callback)\n",
    "transit_callback_index"
   ]
  },
  {
   "cell_type": "code",
   "execution_count": 26,
   "metadata": {},
   "outputs": [],
   "source": [
    "# Define cost of each arc.\n",
    "routing.SetArcCostEvaluatorOfAllVehicles(transit_callback_index)\n"
   ]
  },
  {
   "cell_type": "code",
   "execution_count": 27,
   "metadata": {},
   "outputs": [],
   "source": [
    "# Add Distance constraint.\n",
    "dimension_name = 'Distance'\n",
    "routing.AddDimension(\n",
    "    transit_callback_index,\n",
    "    0,  # no slack\n",
    "    3000000,  # vehicle maximum travel distance\n",
    "    True,  # start cumul to zero\n",
    "    dimension_name)\n",
    "distance_dimension = routing.GetDimensionOrDie(dimension_name)\n",
    "distance_dimension.SetGlobalSpanCostCoefficient(100)"
   ]
  },
  {
   "cell_type": "code",
   "execution_count": 28,
   "metadata": {},
   "outputs": [],
   "source": [
    "# Setting first solution heuristic.\n",
    "search_parameters = pywrapcp.DefaultRoutingSearchParameters()\n",
    "search_parameters.first_solution_strategy = (\n",
    "    routing_enums_pb2.FirstSolutionStrategy.PATH_CHEAPEST_ARC)"
   ]
  },
  {
   "cell_type": "code",
   "execution_count": 29,
   "metadata": {},
   "outputs": [
    {
     "data": {
      "text/plain": [
       "<ortools.constraint_solver.pywrapcp.Assignment; proxy of <Swig Object of type 'operations_research::Assignment *' at 0x11e2fef60> >"
      ]
     },
     "execution_count": 29,
     "metadata": {},
     "output_type": "execute_result"
    }
   ],
   "source": [
    "# Solve the problem.\n",
    "solution = routing.SolveWithParameters(search_parameters)\n",
    "solution"
   ]
  },
  {
   "cell_type": "code",
   "execution_count": 30,
   "metadata": {},
   "outputs": [
    {
     "name": "stdout",
     "output_type": "stream",
     "text": [
      "Route for vehicle 0:\n",
      " 0 ->  6 ->  4 -> 0\n",
      "Distance of the route: 13321m\n",
      "\n",
      "Route for vehicle 1:\n",
      " 0 ->  9 ->  10 ->  1 -> 0\n",
      "Distance of the route: 11042m\n",
      "\n",
      "Route for vehicle 2:\n",
      " 0 ->  5 -> 0\n",
      "Distance of the route: 13037m\n",
      "\n",
      "Route for vehicle 3:\n",
      " 0 ->  3 -> 0\n",
      "Distance of the route: 13209m\n",
      "\n",
      "Route for vehicle 4:\n",
      " 0 ->  2 ->  7 ->  8 -> 0\n",
      "Distance of the route: 9525m\n",
      "\n",
      "Maximum of the route distances: 13321m\n"
     ]
    }
   ],
   "source": [
    "# Print solution on console.\n",
    "if solution:\n",
    "    print_solution(data, manager, routing, solution)"
   ]
  },
  {
   "cell_type": "code",
   "execution_count": 31,
   "metadata": {},
   "outputs": [],
   "source": [
    "def get_routes(solution, routing, manager):\n",
    "    \"\"\"Get vehicle routes from a solution and store them in an array.\"\"\"\n",
    "    # Get vehicle routes and store them in a two dimensional array whose\n",
    "    # i,j entry is the jth location visited by vehicle i along its route.\n",
    "    routes = []\n",
    "    for route_nbr in range(routing.vehicles()):\n",
    "        index = routing.Start(route_nbr)\n",
    "        route = [manager.IndexToNode(index)]\n",
    "        while not routing.IsEnd(index):\n",
    "            index = solution.Value(routing.NextVar(index))\n",
    "            route.append(manager.IndexToNode(index))\n",
    "        routes.append(route)\n",
    "    return routes"
   ]
  },
  {
   "cell_type": "code",
   "execution_count": 32,
   "metadata": {},
   "outputs": [
    {
     "name": "stdout",
     "output_type": "stream",
     "text": [
      "Route 0 [0, 6, 4, 0]\n",
      "Route 1 [0, 9, 10, 1, 0]\n",
      "Route 2 [0, 5, 0]\n",
      "Route 3 [0, 3, 0]\n",
      "Route 4 [0, 2, 7, 8, 0]\n"
     ]
    }
   ],
   "source": [
    "routes = get_routes(solution, routing, manager)\n",
    "\n",
    "# Display the routes.\n",
    "for i, route in enumerate(routes):\n",
    "      print('Route', i, route)"
   ]
  },
  {
   "cell_type": "code",
   "execution_count": 33,
   "metadata": {},
   "outputs": [
    {
     "data": {
      "text/plain": [
       "[[0, 6, 4, 0], [0, 9, 10, 1, 0], [0, 5, 0], [0, 3, 0], [0, 2, 7, 8, 0]]"
      ]
     },
     "execution_count": 33,
     "metadata": {},
     "output_type": "execute_result"
    }
   ],
   "source": [
    "routes"
   ]
  },
  {
   "cell_type": "code",
   "execution_count": 34,
   "metadata": {},
   "outputs": [
    {
     "data": {
      "text/plain": [
       "[[6, 4], [9, 10, 1], [5], [3], [2, 7, 8]]"
      ]
     },
     "execution_count": 34,
     "metadata": {},
     "output_type": "execute_result"
    }
   ],
   "source": [
    "routes_without_collection_point = [route[1:-1] for route in routes]\n",
    "routes_without_collection_point"
   ]
  },
  {
   "cell_type": "code",
   "execution_count": 35,
   "metadata": {},
   "outputs": [
    {
     "data": {
      "text/plain": [
       "[[6, 4], [9, 10, 1], [5], [3], [2, 7, 8]]"
      ]
     },
     "execution_count": 35,
     "metadata": {},
     "output_type": "execute_result"
    }
   ],
   "source": [
    "# Drop empty routes\n",
    "\n",
    "routes_without_collection_point = [route for route in routes_without_collection_point if route]\n",
    "routes_without_collection_point"
   ]
  },
  {
   "cell_type": "code",
   "execution_count": 36,
   "metadata": {},
   "outputs": [],
   "source": [
    "def get_route_number_of_collection_point(current_route_number):\n",
    "    for route_num, route in enumerate(routes_without_collection_point):\n",
    "        if current_route_number in route:\n",
    "            return int(route_num), route.index(current_route_number)"
   ]
  },
  {
   "cell_type": "code",
   "execution_count": 37,
   "metadata": {},
   "outputs": [
    {
     "data": {
      "text/plain": [
       "(2, 0)"
      ]
     },
     "execution_count": 37,
     "metadata": {},
     "output_type": "execute_result"
    }
   ],
   "source": [
    "current_route_number = 5\n",
    "get_route_number_of_collection_point(current_route_number)"
   ]
  },
  {
   "cell_type": "code",
   "execution_count": 38,
   "metadata": {},
   "outputs": [
    {
     "data": {
      "text/html": [
       "<div>\n",
       "<style scoped>\n",
       "    .dataframe tbody tr th:only-of-type {\n",
       "        vertical-align: middle;\n",
       "    }\n",
       "\n",
       "    .dataframe tbody tr th {\n",
       "        vertical-align: top;\n",
       "    }\n",
       "\n",
       "    .dataframe thead th {\n",
       "        text-align: right;\n",
       "    }\n",
       "</style>\n",
       "<table border=\"1\" class=\"dataframe\">\n",
       "  <thead>\n",
       "    <tr style=\"text-align: right;\">\n",
       "      <th></th>\n",
       "      <th>route_num_order</th>\n",
       "      <th>id_num</th>\n",
       "      <th>name</th>\n",
       "      <th>address</th>\n",
       "      <th>postcode</th>\n",
       "      <th>latitude</th>\n",
       "      <th>longitude</th>\n",
       "      <th>api_address</th>\n",
       "    </tr>\n",
       "  </thead>\n",
       "  <tbody>\n",
       "    <tr>\n",
       "      <th>1</th>\n",
       "      <td>(1, 2)</td>\n",
       "      <td>delivery_01</td>\n",
       "      <td>Louise Kirkham</td>\n",
       "      <td>25 Coniston Walk</td>\n",
       "      <td>E9 6EP</td>\n",
       "      <td>51.5511</td>\n",
       "      <td>-0.048096</td>\n",
       "      <td>25+Coniston+Walk+E9+6EP</td>\n",
       "    </tr>\n",
       "    <tr>\n",
       "      <th>2</th>\n",
       "      <td>(4, 0)</td>\n",
       "      <td>delivery_02</td>\n",
       "      <td>Idris Mohammed</td>\n",
       "      <td>23 Speldhurst Rd, Hackney, London</td>\n",
       "      <td>E9 7EH</td>\n",
       "      <td>51.5391</td>\n",
       "      <td>-0.046886</td>\n",
       "      <td>23+Speldhurst+Rd+Hackney+London++E9+7EH</td>\n",
       "    </tr>\n",
       "    <tr>\n",
       "      <th>3</th>\n",
       "      <td>(3, 0)</td>\n",
       "      <td>delivery_03</td>\n",
       "      <td>Syd Sampha</td>\n",
       "      <td>Flat 20, Kensworth House, Cranwood St, Hoxton,...</td>\n",
       "      <td>EC1V 9PA</td>\n",
       "      <td>51.5265</td>\n",
       "      <td>-0.086916</td>\n",
       "      <td>Flat+20+Kensworth+House+Cranwood+St+Hoxton+Lon...</td>\n",
       "    </tr>\n",
       "    <tr>\n",
       "      <th>4</th>\n",
       "      <td>(0, 1)</td>\n",
       "      <td>delivery_04</td>\n",
       "      <td>Dwight Sykes</td>\n",
       "      <td>35 Oldfield Rd, Stoke Newington, London</td>\n",
       "      <td>N16 0RR</td>\n",
       "      <td>51.5587</td>\n",
       "      <td>-0.079139</td>\n",
       "      <td>35+Oldfield+Rd+Stoke+Newington+London+N16+0RR</td>\n",
       "    </tr>\n",
       "    <tr>\n",
       "      <th>5</th>\n",
       "      <td>(2, 0)</td>\n",
       "      <td>delivery_05</td>\n",
       "      <td>Gene Williams</td>\n",
       "      <td>28 Wellington Ave, London</td>\n",
       "      <td>N15 6AS</td>\n",
       "      <td>51.5779</td>\n",
       "      <td>-0.067773</td>\n",
       "      <td>28+Wellington+Ave+London++N15+6AS</td>\n",
       "    </tr>\n",
       "    <tr>\n",
       "      <th>6</th>\n",
       "      <td>(0, 0)</td>\n",
       "      <td>delivery_06</td>\n",
       "      <td>Mavis John</td>\n",
       "      <td>126 Shakspeare Walk, Stoke Newington, London</td>\n",
       "      <td>N16 8TA</td>\n",
       "      <td>51.5564</td>\n",
       "      <td>-0.081687</td>\n",
       "      <td>126+Shakspeare+Walk+Stoke+Newington+London++N1...</td>\n",
       "    </tr>\n",
       "    <tr>\n",
       "      <th>7</th>\n",
       "      <td>(4, 1)</td>\n",
       "      <td>delivery_07</td>\n",
       "      <td>Yazmin Lacey</td>\n",
       "      <td>71 Mapledene Rd, Hackney, London</td>\n",
       "      <td>E8 3JW</td>\n",
       "      <td>51.5418</td>\n",
       "      <td>-0.068707</td>\n",
       "      <td>71+Mapledene+Rd+Hackney+London++E8+3JW</td>\n",
       "    </tr>\n",
       "    <tr>\n",
       "      <th>8</th>\n",
       "      <td>(4, 2)</td>\n",
       "      <td>delivery_08</td>\n",
       "      <td>Alice Smith</td>\n",
       "      <td>49 Darnley Rd, Hackney, London</td>\n",
       "      <td>E9 6QH</td>\n",
       "      <td>51.544</td>\n",
       "      <td>-0.051267</td>\n",
       "      <td>49+Darnley+Rd+Hackney+London++E9+6QH</td>\n",
       "    </tr>\n",
       "    <tr>\n",
       "      <th>9</th>\n",
       "      <td>(1, 0)</td>\n",
       "      <td>delivery_09</td>\n",
       "      <td>Mr Ronson</td>\n",
       "      <td>42 Monteagle Way, Lower Clapton, London</td>\n",
       "      <td>E5 8PH</td>\n",
       "      <td>51.558</td>\n",
       "      <td>-0.062855</td>\n",
       "      <td>42+Monteagle+Way+Lower+Clapton+London++E5+8PH</td>\n",
       "    </tr>\n",
       "    <tr>\n",
       "      <th>10</th>\n",
       "      <td>(1, 1)</td>\n",
       "      <td>delivery_10</td>\n",
       "      <td>Mrs Collins</td>\n",
       "      <td>49 Reighton Rd, Clapton, London</td>\n",
       "      <td>E5 8SQ</td>\n",
       "      <td>51.5615</td>\n",
       "      <td>-0.06244</td>\n",
       "      <td>49+Reighton+Rd+Clapton+London++E5+8SQ</td>\n",
       "    </tr>\n",
       "  </tbody>\n",
       "</table>\n",
       "</div>"
      ],
      "text/plain": [
       "   route_num_order       id_num            name  \\\n",
       "1           (1, 2)  delivery_01  Louise Kirkham   \n",
       "2           (4, 0)  delivery_02  Idris Mohammed   \n",
       "3           (3, 0)  delivery_03      Syd Sampha   \n",
       "4           (0, 1)  delivery_04    Dwight Sykes   \n",
       "5           (2, 0)  delivery_05   Gene Williams   \n",
       "6           (0, 0)  delivery_06      Mavis John   \n",
       "7           (4, 1)  delivery_07    Yazmin Lacey   \n",
       "8           (4, 2)  delivery_08     Alice Smith   \n",
       "9           (1, 0)  delivery_09       Mr Ronson   \n",
       "10          (1, 1)  delivery_10     Mrs Collins   \n",
       "\n",
       "                                              address  postcode latitude  \\\n",
       "1                                    25 Coniston Walk    E9 6EP  51.5511   \n",
       "2                  23 Speldhurst Rd, Hackney, London     E9 7EH  51.5391   \n",
       "3   Flat 20, Kensworth House, Cranwood St, Hoxton,...  EC1V 9PA  51.5265   \n",
       "4             35 Oldfield Rd, Stoke Newington, London   N16 0RR  51.5587   \n",
       "5                          28 Wellington Ave, London    N15 6AS  51.5779   \n",
       "6       126 Shakspeare Walk, Stoke Newington, London    N16 8TA  51.5564   \n",
       "7                   71 Mapledene Rd, Hackney, London     E8 3JW  51.5418   \n",
       "8                     49 Darnley Rd, Hackney, London     E9 6QH   51.544   \n",
       "9            42 Monteagle Way, Lower Clapton, London     E5 8PH   51.558   \n",
       "10                    49 Reighton Rd, Clapton, London    E5 8SQ  51.5615   \n",
       "\n",
       "   longitude                                        api_address  \n",
       "1  -0.048096                            25+Coniston+Walk+E9+6EP  \n",
       "2  -0.046886            23+Speldhurst+Rd+Hackney+London++E9+7EH  \n",
       "3  -0.086916  Flat+20+Kensworth+House+Cranwood+St+Hoxton+Lon...  \n",
       "4  -0.079139      35+Oldfield+Rd+Stoke+Newington+London+N16+0RR  \n",
       "5  -0.067773                  28+Wellington+Ave+London++N15+6AS  \n",
       "6  -0.081687  126+Shakspeare+Walk+Stoke+Newington+London++N1...  \n",
       "7  -0.068707             71+Mapledene+Rd+Hackney+London++E8+3JW  \n",
       "8  -0.051267               49+Darnley+Rd+Hackney+London++E9+6QH  \n",
       "9  -0.062855      42+Monteagle+Way+Lower+Clapton+London++E5+8PH  \n",
       "10  -0.06244              49+Reighton+Rd+Clapton+London++E5+8SQ  "
      ]
     },
     "execution_count": 38,
     "metadata": {},
     "output_type": "execute_result"
    }
   ],
   "source": [
    "# Add route number to origin df\n",
    "\n",
    "# Create column from index number (index zero is actually the collection point,\n",
    "# so delivery points have numbers matching id_num)\n",
    "basic_locations_df = basic_locations_df.reset_index().rename(columns={'index': 'route_num_order'})\n",
    "\n",
    "# Use index number (delivery number) to find which route it's in\n",
    "basic_locations_df['route_num_order'] = basic_locations_df['route_num_order'].apply(lambda x: get_route_number_of_collection_point(x))\n",
    "\n",
    "# Drop the collection point row\n",
    "basic_locations_df = basic_locations_df[~basic_locations_df['id_num'].str.contains('collect')]\n",
    "\n",
    "basic_locations_df"
   ]
  },
  {
   "cell_type": "code",
   "execution_count": null,
   "metadata": {},
   "outputs": [],
   "source": []
  },
  {
   "cell_type": "code",
   "execution_count": 39,
   "metadata": {},
   "outputs": [
    {
     "data": {
      "text/html": [
       "<div>\n",
       "<style scoped>\n",
       "    .dataframe tbody tr th:only-of-type {\n",
       "        vertical-align: middle;\n",
       "    }\n",
       "\n",
       "    .dataframe tbody tr th {\n",
       "        vertical-align: top;\n",
       "    }\n",
       "\n",
       "    .dataframe thead th {\n",
       "        text-align: right;\n",
       "    }\n",
       "</style>\n",
       "<table border=\"1\" class=\"dataframe\">\n",
       "  <thead>\n",
       "    <tr style=\"text-align: right;\">\n",
       "      <th></th>\n",
       "      <th>route_num_order</th>\n",
       "      <th>id_num</th>\n",
       "      <th>name</th>\n",
       "      <th>address</th>\n",
       "      <th>postcode</th>\n",
       "      <th>latitude</th>\n",
       "      <th>longitude</th>\n",
       "      <th>api_address</th>\n",
       "      <th>route_num</th>\n",
       "      <th>order</th>\n",
       "    </tr>\n",
       "  </thead>\n",
       "  <tbody>\n",
       "    <tr>\n",
       "      <th>6</th>\n",
       "      <td>(0, 0)</td>\n",
       "      <td>delivery_06</td>\n",
       "      <td>Mavis John</td>\n",
       "      <td>126 Shakspeare Walk, Stoke Newington, London</td>\n",
       "      <td>N16 8TA</td>\n",
       "      <td>51.5564</td>\n",
       "      <td>-0.081687</td>\n",
       "      <td>126+Shakspeare+Walk+Stoke+Newington+London++N1...</td>\n",
       "      <td>0</td>\n",
       "      <td>0</td>\n",
       "    </tr>\n",
       "    <tr>\n",
       "      <th>4</th>\n",
       "      <td>(0, 1)</td>\n",
       "      <td>delivery_04</td>\n",
       "      <td>Dwight Sykes</td>\n",
       "      <td>35 Oldfield Rd, Stoke Newington, London</td>\n",
       "      <td>N16 0RR</td>\n",
       "      <td>51.5587</td>\n",
       "      <td>-0.079139</td>\n",
       "      <td>35+Oldfield+Rd+Stoke+Newington+London+N16+0RR</td>\n",
       "      <td>0</td>\n",
       "      <td>1</td>\n",
       "    </tr>\n",
       "    <tr>\n",
       "      <th>9</th>\n",
       "      <td>(1, 0)</td>\n",
       "      <td>delivery_09</td>\n",
       "      <td>Mr Ronson</td>\n",
       "      <td>42 Monteagle Way, Lower Clapton, London</td>\n",
       "      <td>E5 8PH</td>\n",
       "      <td>51.558</td>\n",
       "      <td>-0.062855</td>\n",
       "      <td>42+Monteagle+Way+Lower+Clapton+London++E5+8PH</td>\n",
       "      <td>1</td>\n",
       "      <td>0</td>\n",
       "    </tr>\n",
       "    <tr>\n",
       "      <th>10</th>\n",
       "      <td>(1, 1)</td>\n",
       "      <td>delivery_10</td>\n",
       "      <td>Mrs Collins</td>\n",
       "      <td>49 Reighton Rd, Clapton, London</td>\n",
       "      <td>E5 8SQ</td>\n",
       "      <td>51.5615</td>\n",
       "      <td>-0.06244</td>\n",
       "      <td>49+Reighton+Rd+Clapton+London++E5+8SQ</td>\n",
       "      <td>1</td>\n",
       "      <td>1</td>\n",
       "    </tr>\n",
       "    <tr>\n",
       "      <th>1</th>\n",
       "      <td>(1, 2)</td>\n",
       "      <td>delivery_01</td>\n",
       "      <td>Louise Kirkham</td>\n",
       "      <td>25 Coniston Walk</td>\n",
       "      <td>E9 6EP</td>\n",
       "      <td>51.5511</td>\n",
       "      <td>-0.048096</td>\n",
       "      <td>25+Coniston+Walk+E9+6EP</td>\n",
       "      <td>1</td>\n",
       "      <td>2</td>\n",
       "    </tr>\n",
       "    <tr>\n",
       "      <th>5</th>\n",
       "      <td>(2, 0)</td>\n",
       "      <td>delivery_05</td>\n",
       "      <td>Gene Williams</td>\n",
       "      <td>28 Wellington Ave, London</td>\n",
       "      <td>N15 6AS</td>\n",
       "      <td>51.5779</td>\n",
       "      <td>-0.067773</td>\n",
       "      <td>28+Wellington+Ave+London++N15+6AS</td>\n",
       "      <td>2</td>\n",
       "      <td>0</td>\n",
       "    </tr>\n",
       "    <tr>\n",
       "      <th>3</th>\n",
       "      <td>(3, 0)</td>\n",
       "      <td>delivery_03</td>\n",
       "      <td>Syd Sampha</td>\n",
       "      <td>Flat 20, Kensworth House, Cranwood St, Hoxton,...</td>\n",
       "      <td>EC1V 9PA</td>\n",
       "      <td>51.5265</td>\n",
       "      <td>-0.086916</td>\n",
       "      <td>Flat+20+Kensworth+House+Cranwood+St+Hoxton+Lon...</td>\n",
       "      <td>3</td>\n",
       "      <td>0</td>\n",
       "    </tr>\n",
       "    <tr>\n",
       "      <th>2</th>\n",
       "      <td>(4, 0)</td>\n",
       "      <td>delivery_02</td>\n",
       "      <td>Idris Mohammed</td>\n",
       "      <td>23 Speldhurst Rd, Hackney, London</td>\n",
       "      <td>E9 7EH</td>\n",
       "      <td>51.5391</td>\n",
       "      <td>-0.046886</td>\n",
       "      <td>23+Speldhurst+Rd+Hackney+London++E9+7EH</td>\n",
       "      <td>4</td>\n",
       "      <td>0</td>\n",
       "    </tr>\n",
       "    <tr>\n",
       "      <th>7</th>\n",
       "      <td>(4, 1)</td>\n",
       "      <td>delivery_07</td>\n",
       "      <td>Yazmin Lacey</td>\n",
       "      <td>71 Mapledene Rd, Hackney, London</td>\n",
       "      <td>E8 3JW</td>\n",
       "      <td>51.5418</td>\n",
       "      <td>-0.068707</td>\n",
       "      <td>71+Mapledene+Rd+Hackney+London++E8+3JW</td>\n",
       "      <td>4</td>\n",
       "      <td>1</td>\n",
       "    </tr>\n",
       "    <tr>\n",
       "      <th>8</th>\n",
       "      <td>(4, 2)</td>\n",
       "      <td>delivery_08</td>\n",
       "      <td>Alice Smith</td>\n",
       "      <td>49 Darnley Rd, Hackney, London</td>\n",
       "      <td>E9 6QH</td>\n",
       "      <td>51.544</td>\n",
       "      <td>-0.051267</td>\n",
       "      <td>49+Darnley+Rd+Hackney+London++E9+6QH</td>\n",
       "      <td>4</td>\n",
       "      <td>2</td>\n",
       "    </tr>\n",
       "  </tbody>\n",
       "</table>\n",
       "</div>"
      ],
      "text/plain": [
       "   route_num_order       id_num            name  \\\n",
       "6           (0, 0)  delivery_06      Mavis John   \n",
       "4           (0, 1)  delivery_04    Dwight Sykes   \n",
       "9           (1, 0)  delivery_09       Mr Ronson   \n",
       "10          (1, 1)  delivery_10     Mrs Collins   \n",
       "1           (1, 2)  delivery_01  Louise Kirkham   \n",
       "5           (2, 0)  delivery_05   Gene Williams   \n",
       "3           (3, 0)  delivery_03      Syd Sampha   \n",
       "2           (4, 0)  delivery_02  Idris Mohammed   \n",
       "7           (4, 1)  delivery_07    Yazmin Lacey   \n",
       "8           (4, 2)  delivery_08     Alice Smith   \n",
       "\n",
       "                                              address  postcode latitude  \\\n",
       "6       126 Shakspeare Walk, Stoke Newington, London    N16 8TA  51.5564   \n",
       "4             35 Oldfield Rd, Stoke Newington, London   N16 0RR  51.5587   \n",
       "9            42 Monteagle Way, Lower Clapton, London     E5 8PH   51.558   \n",
       "10                    49 Reighton Rd, Clapton, London    E5 8SQ  51.5615   \n",
       "1                                    25 Coniston Walk    E9 6EP  51.5511   \n",
       "5                          28 Wellington Ave, London    N15 6AS  51.5779   \n",
       "3   Flat 20, Kensworth House, Cranwood St, Hoxton,...  EC1V 9PA  51.5265   \n",
       "2                  23 Speldhurst Rd, Hackney, London     E9 7EH  51.5391   \n",
       "7                   71 Mapledene Rd, Hackney, London     E8 3JW  51.5418   \n",
       "8                     49 Darnley Rd, Hackney, London     E9 6QH   51.544   \n",
       "\n",
       "   longitude                                        api_address  route_num  \\\n",
       "6  -0.081687  126+Shakspeare+Walk+Stoke+Newington+London++N1...          0   \n",
       "4  -0.079139      35+Oldfield+Rd+Stoke+Newington+London+N16+0RR          0   \n",
       "9  -0.062855      42+Monteagle+Way+Lower+Clapton+London++E5+8PH          1   \n",
       "10  -0.06244              49+Reighton+Rd+Clapton+London++E5+8SQ          1   \n",
       "1  -0.048096                            25+Coniston+Walk+E9+6EP          1   \n",
       "5  -0.067773                  28+Wellington+Ave+London++N15+6AS          2   \n",
       "3  -0.086916  Flat+20+Kensworth+House+Cranwood+St+Hoxton+Lon...          3   \n",
       "2  -0.046886            23+Speldhurst+Rd+Hackney+London++E9+7EH          4   \n",
       "7  -0.068707             71+Mapledene+Rd+Hackney+London++E8+3JW          4   \n",
       "8  -0.051267               49+Darnley+Rd+Hackney+London++E9+6QH          4   \n",
       "\n",
       "    order  \n",
       "6       0  \n",
       "4       1  \n",
       "9       0  \n",
       "10      1  \n",
       "1       2  \n",
       "5       0  \n",
       "3       0  \n",
       "2       0  \n",
       "7       1  \n",
       "8       2  "
      ]
     },
     "execution_count": 39,
     "metadata": {},
     "output_type": "execute_result"
    }
   ],
   "source": [
    "# Split out route number and order into two columns\n",
    "\n",
    "basic_locations_df['route_num'] = basic_locations_df['route_num_order'].apply(lambda x: x[0])\n",
    "basic_locations_df['order'] = basic_locations_df['route_num_order'].apply(lambda x: x[1])\n",
    "\n",
    "# Sort values by route number and order\n",
    "basic_locations_df = basic_locations_df.sort_values(by=['route_num', 'order'])\n",
    "\n",
    "basic_locations_df"
   ]
  },
  {
   "cell_type": "markdown",
   "metadata": {},
   "source": [
    "## Plotting on Map"
   ]
  },
  {
   "cell_type": "code",
   "execution_count": 34,
   "metadata": {},
   "outputs": [
    {
     "data": {
      "text/html": [
       "<div>\n",
       "<style scoped>\n",
       "    .dataframe tbody tr th:only-of-type {\n",
       "        vertical-align: middle;\n",
       "    }\n",
       "\n",
       "    .dataframe tbody tr th {\n",
       "        vertical-align: top;\n",
       "    }\n",
       "\n",
       "    .dataframe thead th {\n",
       "        text-align: right;\n",
       "    }\n",
       "</style>\n",
       "<table border=\"1\" class=\"dataframe\">\n",
       "  <thead>\n",
       "    <tr style=\"text-align: right;\">\n",
       "      <th></th>\n",
       "      <th>route_num_order</th>\n",
       "      <th>id_num</th>\n",
       "      <th>name</th>\n",
       "      <th>address</th>\n",
       "      <th>postcode</th>\n",
       "      <th>latitude</th>\n",
       "      <th>longitude</th>\n",
       "      <th>api_address</th>\n",
       "      <th>route_num</th>\n",
       "      <th>order</th>\n",
       "    </tr>\n",
       "  </thead>\n",
       "  <tbody>\n",
       "    <tr>\n",
       "      <th>0</th>\n",
       "      <td>(0, 0)</td>\n",
       "      <td>delivery_08</td>\n",
       "      <td>Ella Fitzgerald</td>\n",
       "      <td>45 Lampard Grove, Cazenove, London</td>\n",
       "      <td>N16 6XB</td>\n",
       "      <td>51.567425</td>\n",
       "      <td>-0.070328</td>\n",
       "      <td>45+Lampard+Grove+Cazenove+London+N16+6XB</td>\n",
       "      <td>0</td>\n",
       "      <td>0</td>\n",
       "    </tr>\n",
       "    <tr>\n",
       "      <th>1</th>\n",
       "      <td>(0, 1)</td>\n",
       "      <td>delivery_07</td>\n",
       "      <td>Akira Kosemura</td>\n",
       "      <td>10 Ladbroke House 62-66 Highbury Grove, Highbu...</td>\n",
       "      <td>N5 2AG</td>\n",
       "      <td>51.553173</td>\n",
       "      <td>-0.097935</td>\n",
       "      <td>10+Ladbroke+House+62-66+Highbury+Grove+Highbur...</td>\n",
       "      <td>0</td>\n",
       "      <td>1</td>\n",
       "    </tr>\n",
       "    <tr>\n",
       "      <th>2</th>\n",
       "      <td>(0, 2)</td>\n",
       "      <td>delivery_04</td>\n",
       "      <td>Chet Baker</td>\n",
       "      <td>Adeyfield House, Cranwood St, Hoxton, London</td>\n",
       "      <td>EC1V 9PD</td>\n",
       "      <td>51.526541</td>\n",
       "      <td>-0.086816</td>\n",
       "      <td>Adeyfield+House+Cranwood+St+Hoxton+London+EC1V...</td>\n",
       "      <td>0</td>\n",
       "      <td>2</td>\n",
       "    </tr>\n",
       "    <tr>\n",
       "      <th>3</th>\n",
       "      <td>(0, 3)</td>\n",
       "      <td>delivery_03</td>\n",
       "      <td>Eta James</td>\n",
       "      <td>51 Whiston Road, London</td>\n",
       "      <td>E2 8RZ</td>\n",
       "      <td>51.534488</td>\n",
       "      <td>-0.066195</td>\n",
       "      <td>51+Whiston+Road+London+E2+8RZ</td>\n",
       "      <td>0</td>\n",
       "      <td>3</td>\n",
       "    </tr>\n",
       "    <tr>\n",
       "      <th>4</th>\n",
       "      <td>(0, 4)</td>\n",
       "      <td>delivery_01</td>\n",
       "      <td>Gia Marrgaret</td>\n",
       "      <td>94 Woolridge Way, Hackney, London</td>\n",
       "      <td>E9 6PR</td>\n",
       "      <td>51.542348</td>\n",
       "      <td>-0.049885</td>\n",
       "      <td>94+Woolridge+Way+Hackney+London+E9+6PR</td>\n",
       "      <td>0</td>\n",
       "      <td>4</td>\n",
       "    </tr>\n",
       "  </tbody>\n",
       "</table>\n",
       "</div>"
      ],
      "text/plain": [
       "  route_num_order       id_num             name  \\\n",
       "0          (0, 0)  delivery_08  Ella Fitzgerald   \n",
       "1          (0, 1)  delivery_07   Akira Kosemura   \n",
       "2          (0, 2)  delivery_04       Chet Baker   \n",
       "3          (0, 3)  delivery_03        Eta James   \n",
       "4          (0, 4)  delivery_01    Gia Marrgaret   \n",
       "\n",
       "                                             address  postcode   latitude  \\\n",
       "0                 45 Lampard Grove, Cazenove, London   N16 6XB  51.567425   \n",
       "1  10 Ladbroke House 62-66 Highbury Grove, Highbu...    N5 2AG  51.553173   \n",
       "2       Adeyfield House, Cranwood St, Hoxton, London  EC1V 9PD  51.526541   \n",
       "3                            51 Whiston Road, London    E2 8RZ  51.534488   \n",
       "4                  94 Woolridge Way, Hackney, London    E9 6PR  51.542348   \n",
       "\n",
       "   longitude                                        api_address  route_num  \\\n",
       "0  -0.070328           45+Lampard+Grove+Cazenove+London+N16+6XB          0   \n",
       "1  -0.097935  10+Ladbroke+House+62-66+Highbury+Grove+Highbur...          0   \n",
       "2  -0.086816  Adeyfield+House+Cranwood+St+Hoxton+London+EC1V...          0   \n",
       "3  -0.066195                      51+Whiston+Road+London+E2+8RZ          0   \n",
       "4  -0.049885             94+Woolridge+Way+Hackney+London+E9+6PR          0   \n",
       "\n",
       "   order  \n",
       "0      0  \n",
       "1      1  \n",
       "2      2  \n",
       "3      3  \n",
       "4      4  "
      ]
     },
     "execution_count": 34,
     "metadata": {},
     "output_type": "execute_result"
    }
   ],
   "source": [
    "basic_locations_df = pd.read_csv('data/output/selected_locations_solution.csv')\n",
    "basic_locations_df.head()"
   ]
  },
  {
   "cell_type": "code",
   "execution_count": null,
   "metadata": {},
   "outputs": [],
   "source": []
  },
  {
   "cell_type": "code",
   "execution_count": 39,
   "metadata": {},
   "outputs": [
    {
     "ename": "ValueError",
     "evalue": "Mime type rendering requires nbformat>=4.2.0 but it is not installed",
     "output_type": "error",
     "traceback": [
      "\u001b[0;31m---------------------------------------------------------------------------\u001b[0m",
      "\u001b[0;31mValueError\u001b[0m                                Traceback (most recent call last)",
      "\u001b[0;32m~/.pyenv/versions/3.7.3/lib/python3.7/site-packages/IPython/core/formatters.py\u001b[0m in \u001b[0;36m__call__\u001b[0;34m(self, obj)\u001b[0m\n\u001b[1;32m    916\u001b[0m             \u001b[0mmethod\u001b[0m \u001b[0;34m=\u001b[0m \u001b[0mget_real_method\u001b[0m\u001b[0;34m(\u001b[0m\u001b[0mobj\u001b[0m\u001b[0;34m,\u001b[0m \u001b[0mself\u001b[0m\u001b[0;34m.\u001b[0m\u001b[0mprint_method\u001b[0m\u001b[0;34m)\u001b[0m\u001b[0;34m\u001b[0m\u001b[0;34m\u001b[0m\u001b[0m\n\u001b[1;32m    917\u001b[0m             \u001b[0;32mif\u001b[0m \u001b[0mmethod\u001b[0m \u001b[0;32mis\u001b[0m \u001b[0;32mnot\u001b[0m \u001b[0;32mNone\u001b[0m\u001b[0;34m:\u001b[0m\u001b[0;34m\u001b[0m\u001b[0;34m\u001b[0m\u001b[0m\n\u001b[0;32m--> 918\u001b[0;31m                 \u001b[0mmethod\u001b[0m\u001b[0;34m(\u001b[0m\u001b[0;34m)\u001b[0m\u001b[0;34m\u001b[0m\u001b[0;34m\u001b[0m\u001b[0m\n\u001b[0m\u001b[1;32m    919\u001b[0m                 \u001b[0;32mreturn\u001b[0m \u001b[0;32mTrue\u001b[0m\u001b[0;34m\u001b[0m\u001b[0;34m\u001b[0m\u001b[0m\n\u001b[1;32m    920\u001b[0m \u001b[0;34m\u001b[0m\u001b[0m\n",
      "\u001b[0;32m~/.pyenv/versions/3.7.3/lib/python3.7/site-packages/plotly/basedatatypes.py\u001b[0m in \u001b[0;36m_ipython_display_\u001b[0;34m(self)\u001b[0m\n\u001b[1;32m    842\u001b[0m \u001b[0;34m\u001b[0m\u001b[0m\n\u001b[1;32m    843\u001b[0m         \u001b[0;32mif\u001b[0m \u001b[0mpio\u001b[0m\u001b[0;34m.\u001b[0m\u001b[0mrenderers\u001b[0m\u001b[0;34m.\u001b[0m\u001b[0mrender_on_display\u001b[0m \u001b[0;32mand\u001b[0m \u001b[0mpio\u001b[0m\u001b[0;34m.\u001b[0m\u001b[0mrenderers\u001b[0m\u001b[0;34m.\u001b[0m\u001b[0mdefault\u001b[0m\u001b[0;34m:\u001b[0m\u001b[0;34m\u001b[0m\u001b[0;34m\u001b[0m\u001b[0m\n\u001b[0;32m--> 844\u001b[0;31m             \u001b[0mpio\u001b[0m\u001b[0;34m.\u001b[0m\u001b[0mshow\u001b[0m\u001b[0;34m(\u001b[0m\u001b[0mself\u001b[0m\u001b[0;34m)\u001b[0m\u001b[0;34m\u001b[0m\u001b[0;34m\u001b[0m\u001b[0m\n\u001b[0m\u001b[1;32m    845\u001b[0m         \u001b[0;32melse\u001b[0m\u001b[0;34m:\u001b[0m\u001b[0;34m\u001b[0m\u001b[0;34m\u001b[0m\u001b[0m\n\u001b[1;32m    846\u001b[0m             \u001b[0mprint\u001b[0m\u001b[0;34m(\u001b[0m\u001b[0mrepr\u001b[0m\u001b[0;34m(\u001b[0m\u001b[0mself\u001b[0m\u001b[0;34m)\u001b[0m\u001b[0;34m)\u001b[0m\u001b[0;34m\u001b[0m\u001b[0;34m\u001b[0m\u001b[0m\n",
      "\u001b[0;32m~/.pyenv/versions/3.7.3/lib/python3.7/site-packages/plotly/io/_renderers.py\u001b[0m in \u001b[0;36mshow\u001b[0;34m(fig, renderer, validate, **kwargs)\u001b[0m\n\u001b[1;32m    396\u001b[0m         \u001b[0;32mif\u001b[0m \u001b[0;32mnot\u001b[0m \u001b[0mnbformat\u001b[0m \u001b[0;32mor\u001b[0m \u001b[0mLooseVersion\u001b[0m\u001b[0;34m(\u001b[0m\u001b[0mnbformat\u001b[0m\u001b[0;34m.\u001b[0m\u001b[0m__version__\u001b[0m\u001b[0;34m)\u001b[0m \u001b[0;34m<\u001b[0m \u001b[0mLooseVersion\u001b[0m\u001b[0;34m(\u001b[0m\u001b[0;34m\"4.2.0\"\u001b[0m\u001b[0;34m)\u001b[0m\u001b[0;34m:\u001b[0m\u001b[0;34m\u001b[0m\u001b[0;34m\u001b[0m\u001b[0m\n\u001b[1;32m    397\u001b[0m             raise ValueError(\n\u001b[0;32m--> 398\u001b[0;31m                 \u001b[0;34m\"Mime type rendering requires nbformat>=4.2.0 but it is not installed\"\u001b[0m\u001b[0;34m\u001b[0m\u001b[0;34m\u001b[0m\u001b[0m\n\u001b[0m\u001b[1;32m    399\u001b[0m             )\n\u001b[1;32m    400\u001b[0m \u001b[0;34m\u001b[0m\u001b[0m\n",
      "\u001b[0;31mValueError\u001b[0m: Mime type rendering requires nbformat>=4.2.0 but it is not installed"
     ]
    },
    {
     "data": {
      "application/vnd.plotly.v1+json": {
       "config": {
        "plotlyServerURL": "https://plot.ly"
       },
       "data": [
        {
         "hoverinfo": "text",
         "lat": [
          "51.542540",
          51.567425,
          51.553173,
          51.526541,
          51.534488,
          51.542348,
          51.543422,
          51.543033
         ],
         "lon": [
          "-0.023000",
          -0.070328,
          -0.097935,
          -0.086816,
          -0.066195,
          -0.049885,
          -0.045961,
          -0.038413
         ],
         "marker": {
          "size": 13
         },
         "mode": "lines+markers",
         "name": "Route 0",
         "text": [
          "Stop 0 - Unit 8 Hamlet Industrial Estate, 96 White Post Ln, London",
          "Stop 1 - 45 Lampard Grove, Cazenove, London",
          "Stop 2 - 10 Ladbroke House 62-66 Highbury Grove, Highbury East, London",
          "Stop 3 - Adeyfield House, Cranwood St, Hoxton, London",
          "Stop 4 - 51 Whiston Road, London",
          "Stop 5 - 94 Woolridge Way, Hackney, London",
          "Stop 6 - 7 Poole Rd, London",
          "Stop 7 - 17 Harrowgate Rd, London"
         ],
         "type": "scattermapbox"
        },
        {
         "hoverinfo": "text",
         "lat": [
          "51.542540",
          51.558769,
          51.568494,
          51.578274
         ],
         "lon": [
          "-0.023000",
          -0.095979,
          -0.117942,
          -0.085052
         ],
         "marker": {
          "size": 13
         },
         "mode": "lines+markers",
         "name": "Route 1",
         "text": [
          "Stop 0 - Unit 8 Hamlet Industrial Estate, 96 White Post Ln, London",
          "Stop 1 - 131 Highbury Quadrant Highbury East, London",
          "Stop 2 - 22 Turner House, Corbyn St, Finsbury Park, London",
          "Stop 3 - 23 Fladbury Rd, London"
         ],
         "type": "scattermapbox"
        }
       ],
       "layout": {
        "autosize": true,
        "hovermode": "closest",
        "mapbox": {
         "accesstoken": "pk.eyJ1IjoibG91aXNla2lya2hhbSIsImEiOiJjazYxMGJrZDcwOTdzM3RxaXQ4NG1jZHVlIn0.NeE7I8fu5zglEoeFc_eirQ",
         "center": {
          "lat": 51.551596700000005,
          "lon": -0.0754506
         },
         "style": "light",
         "zoom": 11
        },
        "template": {
         "data": {
          "bar": [
           {
            "error_x": {
             "color": "#2a3f5f"
            },
            "error_y": {
             "color": "#2a3f5f"
            },
            "marker": {
             "line": {
              "color": "#E5ECF6",
              "width": 0.5
             }
            },
            "type": "bar"
           }
          ],
          "barpolar": [
           {
            "marker": {
             "line": {
              "color": "#E5ECF6",
              "width": 0.5
             }
            },
            "type": "barpolar"
           }
          ],
          "carpet": [
           {
            "aaxis": {
             "endlinecolor": "#2a3f5f",
             "gridcolor": "white",
             "linecolor": "white",
             "minorgridcolor": "white",
             "startlinecolor": "#2a3f5f"
            },
            "baxis": {
             "endlinecolor": "#2a3f5f",
             "gridcolor": "white",
             "linecolor": "white",
             "minorgridcolor": "white",
             "startlinecolor": "#2a3f5f"
            },
            "type": "carpet"
           }
          ],
          "choropleth": [
           {
            "colorbar": {
             "outlinewidth": 0,
             "ticks": ""
            },
            "type": "choropleth"
           }
          ],
          "contour": [
           {
            "colorbar": {
             "outlinewidth": 0,
             "ticks": ""
            },
            "colorscale": [
             [
              0,
              "#0d0887"
             ],
             [
              0.1111111111111111,
              "#46039f"
             ],
             [
              0.2222222222222222,
              "#7201a8"
             ],
             [
              0.3333333333333333,
              "#9c179e"
             ],
             [
              0.4444444444444444,
              "#bd3786"
             ],
             [
              0.5555555555555556,
              "#d8576b"
             ],
             [
              0.6666666666666666,
              "#ed7953"
             ],
             [
              0.7777777777777778,
              "#fb9f3a"
             ],
             [
              0.8888888888888888,
              "#fdca26"
             ],
             [
              1,
              "#f0f921"
             ]
            ],
            "type": "contour"
           }
          ],
          "contourcarpet": [
           {
            "colorbar": {
             "outlinewidth": 0,
             "ticks": ""
            },
            "type": "contourcarpet"
           }
          ],
          "heatmap": [
           {
            "colorbar": {
             "outlinewidth": 0,
             "ticks": ""
            },
            "colorscale": [
             [
              0,
              "#0d0887"
             ],
             [
              0.1111111111111111,
              "#46039f"
             ],
             [
              0.2222222222222222,
              "#7201a8"
             ],
             [
              0.3333333333333333,
              "#9c179e"
             ],
             [
              0.4444444444444444,
              "#bd3786"
             ],
             [
              0.5555555555555556,
              "#d8576b"
             ],
             [
              0.6666666666666666,
              "#ed7953"
             ],
             [
              0.7777777777777778,
              "#fb9f3a"
             ],
             [
              0.8888888888888888,
              "#fdca26"
             ],
             [
              1,
              "#f0f921"
             ]
            ],
            "type": "heatmap"
           }
          ],
          "heatmapgl": [
           {
            "colorbar": {
             "outlinewidth": 0,
             "ticks": ""
            },
            "colorscale": [
             [
              0,
              "#0d0887"
             ],
             [
              0.1111111111111111,
              "#46039f"
             ],
             [
              0.2222222222222222,
              "#7201a8"
             ],
             [
              0.3333333333333333,
              "#9c179e"
             ],
             [
              0.4444444444444444,
              "#bd3786"
             ],
             [
              0.5555555555555556,
              "#d8576b"
             ],
             [
              0.6666666666666666,
              "#ed7953"
             ],
             [
              0.7777777777777778,
              "#fb9f3a"
             ],
             [
              0.8888888888888888,
              "#fdca26"
             ],
             [
              1,
              "#f0f921"
             ]
            ],
            "type": "heatmapgl"
           }
          ],
          "histogram": [
           {
            "marker": {
             "colorbar": {
              "outlinewidth": 0,
              "ticks": ""
             }
            },
            "type": "histogram"
           }
          ],
          "histogram2d": [
           {
            "colorbar": {
             "outlinewidth": 0,
             "ticks": ""
            },
            "colorscale": [
             [
              0,
              "#0d0887"
             ],
             [
              0.1111111111111111,
              "#46039f"
             ],
             [
              0.2222222222222222,
              "#7201a8"
             ],
             [
              0.3333333333333333,
              "#9c179e"
             ],
             [
              0.4444444444444444,
              "#bd3786"
             ],
             [
              0.5555555555555556,
              "#d8576b"
             ],
             [
              0.6666666666666666,
              "#ed7953"
             ],
             [
              0.7777777777777778,
              "#fb9f3a"
             ],
             [
              0.8888888888888888,
              "#fdca26"
             ],
             [
              1,
              "#f0f921"
             ]
            ],
            "type": "histogram2d"
           }
          ],
          "histogram2dcontour": [
           {
            "colorbar": {
             "outlinewidth": 0,
             "ticks": ""
            },
            "colorscale": [
             [
              0,
              "#0d0887"
             ],
             [
              0.1111111111111111,
              "#46039f"
             ],
             [
              0.2222222222222222,
              "#7201a8"
             ],
             [
              0.3333333333333333,
              "#9c179e"
             ],
             [
              0.4444444444444444,
              "#bd3786"
             ],
             [
              0.5555555555555556,
              "#d8576b"
             ],
             [
              0.6666666666666666,
              "#ed7953"
             ],
             [
              0.7777777777777778,
              "#fb9f3a"
             ],
             [
              0.8888888888888888,
              "#fdca26"
             ],
             [
              1,
              "#f0f921"
             ]
            ],
            "type": "histogram2dcontour"
           }
          ],
          "mesh3d": [
           {
            "colorbar": {
             "outlinewidth": 0,
             "ticks": ""
            },
            "type": "mesh3d"
           }
          ],
          "parcoords": [
           {
            "line": {
             "colorbar": {
              "outlinewidth": 0,
              "ticks": ""
             }
            },
            "type": "parcoords"
           }
          ],
          "pie": [
           {
            "automargin": true,
            "type": "pie"
           }
          ],
          "scatter": [
           {
            "marker": {
             "colorbar": {
              "outlinewidth": 0,
              "ticks": ""
             }
            },
            "type": "scatter"
           }
          ],
          "scatter3d": [
           {
            "line": {
             "colorbar": {
              "outlinewidth": 0,
              "ticks": ""
             }
            },
            "marker": {
             "colorbar": {
              "outlinewidth": 0,
              "ticks": ""
             }
            },
            "type": "scatter3d"
           }
          ],
          "scattercarpet": [
           {
            "marker": {
             "colorbar": {
              "outlinewidth": 0,
              "ticks": ""
             }
            },
            "type": "scattercarpet"
           }
          ],
          "scattergeo": [
           {
            "marker": {
             "colorbar": {
              "outlinewidth": 0,
              "ticks": ""
             }
            },
            "type": "scattergeo"
           }
          ],
          "scattergl": [
           {
            "marker": {
             "colorbar": {
              "outlinewidth": 0,
              "ticks": ""
             }
            },
            "type": "scattergl"
           }
          ],
          "scattermapbox": [
           {
            "marker": {
             "colorbar": {
              "outlinewidth": 0,
              "ticks": ""
             }
            },
            "type": "scattermapbox"
           }
          ],
          "scatterpolar": [
           {
            "marker": {
             "colorbar": {
              "outlinewidth": 0,
              "ticks": ""
             }
            },
            "type": "scatterpolar"
           }
          ],
          "scatterpolargl": [
           {
            "marker": {
             "colorbar": {
              "outlinewidth": 0,
              "ticks": ""
             }
            },
            "type": "scatterpolargl"
           }
          ],
          "scatterternary": [
           {
            "marker": {
             "colorbar": {
              "outlinewidth": 0,
              "ticks": ""
             }
            },
            "type": "scatterternary"
           }
          ],
          "surface": [
           {
            "colorbar": {
             "outlinewidth": 0,
             "ticks": ""
            },
            "colorscale": [
             [
              0,
              "#0d0887"
             ],
             [
              0.1111111111111111,
              "#46039f"
             ],
             [
              0.2222222222222222,
              "#7201a8"
             ],
             [
              0.3333333333333333,
              "#9c179e"
             ],
             [
              0.4444444444444444,
              "#bd3786"
             ],
             [
              0.5555555555555556,
              "#d8576b"
             ],
             [
              0.6666666666666666,
              "#ed7953"
             ],
             [
              0.7777777777777778,
              "#fb9f3a"
             ],
             [
              0.8888888888888888,
              "#fdca26"
             ],
             [
              1,
              "#f0f921"
             ]
            ],
            "type": "surface"
           }
          ],
          "table": [
           {
            "cells": {
             "fill": {
              "color": "#EBF0F8"
             },
             "line": {
              "color": "white"
             }
            },
            "header": {
             "fill": {
              "color": "#C8D4E3"
             },
             "line": {
              "color": "white"
             }
            },
            "type": "table"
           }
          ]
         },
         "layout": {
          "annotationdefaults": {
           "arrowcolor": "#2a3f5f",
           "arrowhead": 0,
           "arrowwidth": 1
          },
          "autotypenumbers": "strict",
          "coloraxis": {
           "colorbar": {
            "outlinewidth": 0,
            "ticks": ""
           }
          },
          "colorscale": {
           "diverging": [
            [
             0,
             "#8e0152"
            ],
            [
             0.1,
             "#c51b7d"
            ],
            [
             0.2,
             "#de77ae"
            ],
            [
             0.3,
             "#f1b6da"
            ],
            [
             0.4,
             "#fde0ef"
            ],
            [
             0.5,
             "#f7f7f7"
            ],
            [
             0.6,
             "#e6f5d0"
            ],
            [
             0.7,
             "#b8e186"
            ],
            [
             0.8,
             "#7fbc41"
            ],
            [
             0.9,
             "#4d9221"
            ],
            [
             1,
             "#276419"
            ]
           ],
           "sequential": [
            [
             0,
             "#0d0887"
            ],
            [
             0.1111111111111111,
             "#46039f"
            ],
            [
             0.2222222222222222,
             "#7201a8"
            ],
            [
             0.3333333333333333,
             "#9c179e"
            ],
            [
             0.4444444444444444,
             "#bd3786"
            ],
            [
             0.5555555555555556,
             "#d8576b"
            ],
            [
             0.6666666666666666,
             "#ed7953"
            ],
            [
             0.7777777777777778,
             "#fb9f3a"
            ],
            [
             0.8888888888888888,
             "#fdca26"
            ],
            [
             1,
             "#f0f921"
            ]
           ],
           "sequentialminus": [
            [
             0,
             "#0d0887"
            ],
            [
             0.1111111111111111,
             "#46039f"
            ],
            [
             0.2222222222222222,
             "#7201a8"
            ],
            [
             0.3333333333333333,
             "#9c179e"
            ],
            [
             0.4444444444444444,
             "#bd3786"
            ],
            [
             0.5555555555555556,
             "#d8576b"
            ],
            [
             0.6666666666666666,
             "#ed7953"
            ],
            [
             0.7777777777777778,
             "#fb9f3a"
            ],
            [
             0.8888888888888888,
             "#fdca26"
            ],
            [
             1,
             "#f0f921"
            ]
           ]
          },
          "colorway": [
           "#636efa",
           "#EF553B",
           "#00cc96",
           "#ab63fa",
           "#FFA15A",
           "#19d3f3",
           "#FF6692",
           "#B6E880",
           "#FF97FF",
           "#FECB52"
          ],
          "font": {
           "color": "#2a3f5f"
          },
          "geo": {
           "bgcolor": "white",
           "lakecolor": "white",
           "landcolor": "#E5ECF6",
           "showlakes": true,
           "showland": true,
           "subunitcolor": "white"
          },
          "hoverlabel": {
           "align": "left"
          },
          "hovermode": "closest",
          "mapbox": {
           "style": "light"
          },
          "paper_bgcolor": "white",
          "plot_bgcolor": "#E5ECF6",
          "polar": {
           "angularaxis": {
            "gridcolor": "white",
            "linecolor": "white",
            "ticks": ""
           },
           "bgcolor": "#E5ECF6",
           "radialaxis": {
            "gridcolor": "white",
            "linecolor": "white",
            "ticks": ""
           }
          },
          "scene": {
           "xaxis": {
            "backgroundcolor": "#E5ECF6",
            "gridcolor": "white",
            "gridwidth": 2,
            "linecolor": "white",
            "showbackground": true,
            "ticks": "",
            "zerolinecolor": "white"
           },
           "yaxis": {
            "backgroundcolor": "#E5ECF6",
            "gridcolor": "white",
            "gridwidth": 2,
            "linecolor": "white",
            "showbackground": true,
            "ticks": "",
            "zerolinecolor": "white"
           },
           "zaxis": {
            "backgroundcolor": "#E5ECF6",
            "gridcolor": "white",
            "gridwidth": 2,
            "linecolor": "white",
            "showbackground": true,
            "ticks": "",
            "zerolinecolor": "white"
           }
          },
          "shapedefaults": {
           "line": {
            "color": "#2a3f5f"
           }
          },
          "ternary": {
           "aaxis": {
            "gridcolor": "white",
            "linecolor": "white",
            "ticks": ""
           },
           "baxis": {
            "gridcolor": "white",
            "linecolor": "white",
            "ticks": ""
           },
           "bgcolor": "#E5ECF6",
           "caxis": {
            "gridcolor": "white",
            "linecolor": "white",
            "ticks": ""
           }
          },
          "title": {
           "x": 0.05
          },
          "xaxis": {
           "automargin": true,
           "gridcolor": "white",
           "linecolor": "white",
           "ticks": "",
           "title": {
            "standoff": 15
           },
           "zerolinecolor": "white",
           "zerolinewidth": 2
          },
          "yaxis": {
           "automargin": true,
           "gridcolor": "white",
           "linecolor": "white",
           "ticks": "",
           "title": {
            "standoff": 15
           },
           "zerolinecolor": "white",
           "zerolinewidth": 2
          }
         }
        }
       }
      },
      "text/html": [
       "<div>                            <div id=\"54f45e5f-cd08-4a16-8759-22a4a122a23a\" class=\"plotly-graph-div\" style=\"height:525px; width:100%;\"></div>            <script type=\"text/javascript\">                require([\"plotly\"], function(Plotly) {                    window.PLOTLYENV=window.PLOTLYENV || {};                                    if (document.getElementById(\"54f45e5f-cd08-4a16-8759-22a4a122a23a\")) {                    Plotly.newPlot(                        \"54f45e5f-cd08-4a16-8759-22a4a122a23a\",                        [{\"hoverinfo\": \"text\", \"lat\": [\"51.542540\", 51.567425, 51.553173, 51.526541, 51.534488, 51.542348, 51.543422, 51.543033], \"lon\": [\"-0.023000\", -0.070328, -0.097935, -0.086816, -0.066195, -0.049885, -0.045961, -0.038413], \"marker\": {\"size\": 13}, \"mode\": \"lines+markers\", \"name\": \"Route 0\", \"text\": [\"Stop 0 - Unit 8 Hamlet Industrial Estate, 96 White Post Ln, London\", \"Stop 1 - 45 Lampard Grove, Cazenove, London\", \"Stop 2 - 10 Ladbroke House 62-66 Highbury Grove, Highbury East, London\", \"Stop 3 - Adeyfield House, Cranwood St, Hoxton, London\", \"Stop 4 - 51 Whiston Road, London\", \"Stop 5 - 94 Woolridge Way, Hackney, London\", \"Stop 6 - 7 Poole Rd, London\", \"Stop 7 - 17 Harrowgate Rd, London\"], \"type\": \"scattermapbox\"}, {\"hoverinfo\": \"text\", \"lat\": [\"51.542540\", 51.558769, 51.568494, 51.578274], \"lon\": [\"-0.023000\", -0.095979, -0.117942, -0.085052], \"marker\": {\"size\": 13}, \"mode\": \"lines+markers\", \"name\": \"Route 1\", \"text\": [\"Stop 0 - Unit 8 Hamlet Industrial Estate, 96 White Post Ln, London\", \"Stop 1 - 131 Highbury Quadrant Highbury East, London\", \"Stop 2 - 22 Turner House, Corbyn St, Finsbury Park, London\", \"Stop 3 - 23 Fladbury Rd, London\"], \"type\": \"scattermapbox\"}],                        {\"autosize\": true, \"hovermode\": \"closest\", \"mapbox\": {\"accesstoken\": \"pk.eyJ1IjoibG91aXNla2lya2hhbSIsImEiOiJjazYxMGJrZDcwOTdzM3RxaXQ4NG1jZHVlIn0.NeE7I8fu5zglEoeFc_eirQ\", \"center\": {\"lat\": 51.551596700000005, \"lon\": -0.0754506}, \"style\": \"light\", \"zoom\": 11}, \"template\": {\"data\": {\"bar\": [{\"error_x\": {\"color\": \"#2a3f5f\"}, \"error_y\": {\"color\": \"#2a3f5f\"}, \"marker\": {\"line\": {\"color\": \"#E5ECF6\", \"width\": 0.5}}, \"type\": \"bar\"}], \"barpolar\": [{\"marker\": {\"line\": {\"color\": \"#E5ECF6\", \"width\": 0.5}}, \"type\": \"barpolar\"}], \"carpet\": [{\"aaxis\": {\"endlinecolor\": \"#2a3f5f\", \"gridcolor\": \"white\", \"linecolor\": \"white\", \"minorgridcolor\": \"white\", \"startlinecolor\": \"#2a3f5f\"}, \"baxis\": {\"endlinecolor\": \"#2a3f5f\", \"gridcolor\": \"white\", \"linecolor\": \"white\", \"minorgridcolor\": \"white\", \"startlinecolor\": \"#2a3f5f\"}, \"type\": \"carpet\"}], \"choropleth\": [{\"colorbar\": {\"outlinewidth\": 0, \"ticks\": \"\"}, \"type\": \"choropleth\"}], \"contour\": [{\"colorbar\": {\"outlinewidth\": 0, \"ticks\": \"\"}, \"colorscale\": [[0.0, \"#0d0887\"], [0.1111111111111111, \"#46039f\"], [0.2222222222222222, \"#7201a8\"], [0.3333333333333333, \"#9c179e\"], [0.4444444444444444, \"#bd3786\"], [0.5555555555555556, \"#d8576b\"], [0.6666666666666666, \"#ed7953\"], [0.7777777777777778, \"#fb9f3a\"], [0.8888888888888888, \"#fdca26\"], [1.0, \"#f0f921\"]], \"type\": \"contour\"}], \"contourcarpet\": [{\"colorbar\": {\"outlinewidth\": 0, \"ticks\": \"\"}, \"type\": \"contourcarpet\"}], \"heatmap\": [{\"colorbar\": {\"outlinewidth\": 0, \"ticks\": \"\"}, \"colorscale\": [[0.0, \"#0d0887\"], [0.1111111111111111, \"#46039f\"], [0.2222222222222222, \"#7201a8\"], [0.3333333333333333, \"#9c179e\"], [0.4444444444444444, \"#bd3786\"], [0.5555555555555556, \"#d8576b\"], [0.6666666666666666, \"#ed7953\"], [0.7777777777777778, \"#fb9f3a\"], [0.8888888888888888, \"#fdca26\"], [1.0, \"#f0f921\"]], \"type\": \"heatmap\"}], \"heatmapgl\": [{\"colorbar\": {\"outlinewidth\": 0, \"ticks\": \"\"}, \"colorscale\": [[0.0, \"#0d0887\"], [0.1111111111111111, \"#46039f\"], [0.2222222222222222, \"#7201a8\"], [0.3333333333333333, \"#9c179e\"], [0.4444444444444444, \"#bd3786\"], [0.5555555555555556, \"#d8576b\"], [0.6666666666666666, \"#ed7953\"], [0.7777777777777778, \"#fb9f3a\"], [0.8888888888888888, \"#fdca26\"], [1.0, \"#f0f921\"]], \"type\": \"heatmapgl\"}], \"histogram\": [{\"marker\": {\"colorbar\": {\"outlinewidth\": 0, \"ticks\": \"\"}}, \"type\": \"histogram\"}], \"histogram2d\": [{\"colorbar\": {\"outlinewidth\": 0, \"ticks\": \"\"}, \"colorscale\": [[0.0, \"#0d0887\"], [0.1111111111111111, \"#46039f\"], [0.2222222222222222, \"#7201a8\"], [0.3333333333333333, \"#9c179e\"], [0.4444444444444444, \"#bd3786\"], [0.5555555555555556, \"#d8576b\"], [0.6666666666666666, \"#ed7953\"], [0.7777777777777778, \"#fb9f3a\"], [0.8888888888888888, \"#fdca26\"], [1.0, \"#f0f921\"]], \"type\": \"histogram2d\"}], \"histogram2dcontour\": [{\"colorbar\": {\"outlinewidth\": 0, \"ticks\": \"\"}, \"colorscale\": [[0.0, \"#0d0887\"], [0.1111111111111111, \"#46039f\"], [0.2222222222222222, \"#7201a8\"], [0.3333333333333333, \"#9c179e\"], [0.4444444444444444, \"#bd3786\"], [0.5555555555555556, \"#d8576b\"], [0.6666666666666666, \"#ed7953\"], [0.7777777777777778, \"#fb9f3a\"], [0.8888888888888888, \"#fdca26\"], [1.0, \"#f0f921\"]], \"type\": \"histogram2dcontour\"}], \"mesh3d\": [{\"colorbar\": {\"outlinewidth\": 0, \"ticks\": \"\"}, \"type\": \"mesh3d\"}], \"parcoords\": [{\"line\": {\"colorbar\": {\"outlinewidth\": 0, \"ticks\": \"\"}}, \"type\": \"parcoords\"}], \"pie\": [{\"automargin\": true, \"type\": \"pie\"}], \"scatter\": [{\"marker\": {\"colorbar\": {\"outlinewidth\": 0, \"ticks\": \"\"}}, \"type\": \"scatter\"}], \"scatter3d\": [{\"line\": {\"colorbar\": {\"outlinewidth\": 0, \"ticks\": \"\"}}, \"marker\": {\"colorbar\": {\"outlinewidth\": 0, \"ticks\": \"\"}}, \"type\": \"scatter3d\"}], \"scattercarpet\": [{\"marker\": {\"colorbar\": {\"outlinewidth\": 0, \"ticks\": \"\"}}, \"type\": \"scattercarpet\"}], \"scattergeo\": [{\"marker\": {\"colorbar\": {\"outlinewidth\": 0, \"ticks\": \"\"}}, \"type\": \"scattergeo\"}], \"scattergl\": [{\"marker\": {\"colorbar\": {\"outlinewidth\": 0, \"ticks\": \"\"}}, \"type\": \"scattergl\"}], \"scattermapbox\": [{\"marker\": {\"colorbar\": {\"outlinewidth\": 0, \"ticks\": \"\"}}, \"type\": \"scattermapbox\"}], \"scatterpolar\": [{\"marker\": {\"colorbar\": {\"outlinewidth\": 0, \"ticks\": \"\"}}, \"type\": \"scatterpolar\"}], \"scatterpolargl\": [{\"marker\": {\"colorbar\": {\"outlinewidth\": 0, \"ticks\": \"\"}}, \"type\": \"scatterpolargl\"}], \"scatterternary\": [{\"marker\": {\"colorbar\": {\"outlinewidth\": 0, \"ticks\": \"\"}}, \"type\": \"scatterternary\"}], \"surface\": [{\"colorbar\": {\"outlinewidth\": 0, \"ticks\": \"\"}, \"colorscale\": [[0.0, \"#0d0887\"], [0.1111111111111111, \"#46039f\"], [0.2222222222222222, \"#7201a8\"], [0.3333333333333333, \"#9c179e\"], [0.4444444444444444, \"#bd3786\"], [0.5555555555555556, \"#d8576b\"], [0.6666666666666666, \"#ed7953\"], [0.7777777777777778, \"#fb9f3a\"], [0.8888888888888888, \"#fdca26\"], [1.0, \"#f0f921\"]], \"type\": \"surface\"}], \"table\": [{\"cells\": {\"fill\": {\"color\": \"#EBF0F8\"}, \"line\": {\"color\": \"white\"}}, \"header\": {\"fill\": {\"color\": \"#C8D4E3\"}, \"line\": {\"color\": \"white\"}}, \"type\": \"table\"}]}, \"layout\": {\"annotationdefaults\": {\"arrowcolor\": \"#2a3f5f\", \"arrowhead\": 0, \"arrowwidth\": 1}, \"autotypenumbers\": \"strict\", \"coloraxis\": {\"colorbar\": {\"outlinewidth\": 0, \"ticks\": \"\"}}, \"colorscale\": {\"diverging\": [[0, \"#8e0152\"], [0.1, \"#c51b7d\"], [0.2, \"#de77ae\"], [0.3, \"#f1b6da\"], [0.4, \"#fde0ef\"], [0.5, \"#f7f7f7\"], [0.6, \"#e6f5d0\"], [0.7, \"#b8e186\"], [0.8, \"#7fbc41\"], [0.9, \"#4d9221\"], [1, \"#276419\"]], \"sequential\": [[0.0, \"#0d0887\"], [0.1111111111111111, \"#46039f\"], [0.2222222222222222, \"#7201a8\"], [0.3333333333333333, \"#9c179e\"], [0.4444444444444444, \"#bd3786\"], [0.5555555555555556, \"#d8576b\"], [0.6666666666666666, \"#ed7953\"], [0.7777777777777778, \"#fb9f3a\"], [0.8888888888888888, \"#fdca26\"], [1.0, \"#f0f921\"]], \"sequentialminus\": [[0.0, \"#0d0887\"], [0.1111111111111111, \"#46039f\"], [0.2222222222222222, \"#7201a8\"], [0.3333333333333333, \"#9c179e\"], [0.4444444444444444, \"#bd3786\"], [0.5555555555555556, \"#d8576b\"], [0.6666666666666666, \"#ed7953\"], [0.7777777777777778, \"#fb9f3a\"], [0.8888888888888888, \"#fdca26\"], [1.0, \"#f0f921\"]]}, \"colorway\": [\"#636efa\", \"#EF553B\", \"#00cc96\", \"#ab63fa\", \"#FFA15A\", \"#19d3f3\", \"#FF6692\", \"#B6E880\", \"#FF97FF\", \"#FECB52\"], \"font\": {\"color\": \"#2a3f5f\"}, \"geo\": {\"bgcolor\": \"white\", \"lakecolor\": \"white\", \"landcolor\": \"#E5ECF6\", \"showlakes\": true, \"showland\": true, \"subunitcolor\": \"white\"}, \"hoverlabel\": {\"align\": \"left\"}, \"hovermode\": \"closest\", \"mapbox\": {\"style\": \"light\"}, \"paper_bgcolor\": \"white\", \"plot_bgcolor\": \"#E5ECF6\", \"polar\": {\"angularaxis\": {\"gridcolor\": \"white\", \"linecolor\": \"white\", \"ticks\": \"\"}, \"bgcolor\": \"#E5ECF6\", \"radialaxis\": {\"gridcolor\": \"white\", \"linecolor\": \"white\", \"ticks\": \"\"}}, \"scene\": {\"xaxis\": {\"backgroundcolor\": \"#E5ECF6\", \"gridcolor\": \"white\", \"gridwidth\": 2, \"linecolor\": \"white\", \"showbackground\": true, \"ticks\": \"\", \"zerolinecolor\": \"white\"}, \"yaxis\": {\"backgroundcolor\": \"#E5ECF6\", \"gridcolor\": \"white\", \"gridwidth\": 2, \"linecolor\": \"white\", \"showbackground\": true, \"ticks\": \"\", \"zerolinecolor\": \"white\"}, \"zaxis\": {\"backgroundcolor\": \"#E5ECF6\", \"gridcolor\": \"white\", \"gridwidth\": 2, \"linecolor\": \"white\", \"showbackground\": true, \"ticks\": \"\", \"zerolinecolor\": \"white\"}}, \"shapedefaults\": {\"line\": {\"color\": \"#2a3f5f\"}}, \"ternary\": {\"aaxis\": {\"gridcolor\": \"white\", \"linecolor\": \"white\", \"ticks\": \"\"}, \"baxis\": {\"gridcolor\": \"white\", \"linecolor\": \"white\", \"ticks\": \"\"}, \"bgcolor\": \"#E5ECF6\", \"caxis\": {\"gridcolor\": \"white\", \"linecolor\": \"white\", \"ticks\": \"\"}}, \"title\": {\"x\": 0.05}, \"xaxis\": {\"automargin\": true, \"gridcolor\": \"white\", \"linecolor\": \"white\", \"ticks\": \"\", \"title\": {\"standoff\": 15}, \"zerolinecolor\": \"white\", \"zerolinewidth\": 2}, \"yaxis\": {\"automargin\": true, \"gridcolor\": \"white\", \"linecolor\": \"white\", \"ticks\": \"\", \"title\": {\"standoff\": 15}, \"zerolinecolor\": \"white\", \"zerolinewidth\": 2}}}},                        {\"responsive\": true}                    ).then(function(){\n",
       "                            \n",
       "var gd = document.getElementById('54f45e5f-cd08-4a16-8759-22a4a122a23a');\n",
       "var x = new MutationObserver(function (mutations, observer) {{\n",
       "        var display = window.getComputedStyle(gd).display;\n",
       "        if (!display || display === 'none') {{\n",
       "            console.log([gd, 'removed!']);\n",
       "            Plotly.purge(gd);\n",
       "            observer.disconnect();\n",
       "        }}\n",
       "}});\n",
       "\n",
       "// Listen for the removal of the full notebook cells\n",
       "var notebookContainer = gd.closest('#notebook-container');\n",
       "if (notebookContainer) {{\n",
       "    x.observe(notebookContainer, {childList: true});\n",
       "}}\n",
       "\n",
       "// Listen for the clearing of the current output cell\n",
       "var outputEl = gd.closest('.output');\n",
       "if (outputEl) {{\n",
       "    x.observe(outputEl, {childList: true});\n",
       "}}\n",
       "\n",
       "                        })                };                });            </script>        </div>"
      ],
      "text/plain": [
       "Figure({\n",
       "    'data': [{'hoverinfo': 'text',\n",
       "              'lat': array(['51.542540', 51.567425, 51.553173, 51.526541, 51.534488, 51.542348,\n",
       "                            51.543422, 51.543033], dtype=object),\n",
       "              'lon': array(['-0.023000', -0.070328, -0.097935, -0.086816, -0.066195, -0.049885,\n",
       "                            -0.045961, -0.038413], dtype=object),\n",
       "              'marker': {'size': 13},\n",
       "              'mode': 'lines+markers',\n",
       "              'name': 'Route 0',\n",
       "              'text': array(['Stop 0 - Unit 8 Hamlet Industrial Estate, 96 White Post Ln, London',\n",
       "                             'Stop 1 - 45 Lampard Grove, Cazenove, London',\n",
       "                             'Stop 2 - 10 Ladbroke House 62-66 Highbury Grove, Highbury East, London',\n",
       "                             'Stop 3 - Adeyfield House, Cranwood St, Hoxton, London',\n",
       "                             'Stop 4 - 51 Whiston Road, London',\n",
       "                             'Stop 5 - 94 Woolridge Way, Hackney, London',\n",
       "                             'Stop 6 - 7 Poole Rd, London', 'Stop 7 - 17 Harrowgate Rd, London'],\n",
       "                            dtype=object),\n",
       "              'type': 'scattermapbox'},\n",
       "             {'hoverinfo': 'text',\n",
       "              'lat': array(['51.542540', 51.558769, 51.568494, 51.578274], dtype=object),\n",
       "              'lon': array(['-0.023000', -0.095979, -0.117942, -0.085052], dtype=object),\n",
       "              'marker': {'size': 13},\n",
       "              'mode': 'lines+markers',\n",
       "              'name': 'Route 1',\n",
       "              'text': array(['Stop 0 - Unit 8 Hamlet Industrial Estate, 96 White Post Ln, London',\n",
       "                             'Stop 1 - 131 Highbury Quadrant Highbury East, London',\n",
       "                             'Stop 2 - 22 Turner House, Corbyn St, Finsbury Park, London',\n",
       "                             'Stop 3 - 23 Fladbury Rd, London'], dtype=object),\n",
       "              'type': 'scattermapbox'}],\n",
       "    'layout': {'autosize': True,\n",
       "               'hovermode': 'closest',\n",
       "               'mapbox': {'accesstoken': ('pk.eyJ1IjoibG91aXNla2lya2hhbSI' ... 'ZHVlIn0.NeE7I8fu5zglEoeFc_eirQ'),\n",
       "                          'center': {'lat': 51.551596700000005, 'lon': -0.0754506},\n",
       "                          'style': 'light',\n",
       "                          'zoom': 11},\n",
       "               'template': '...'}\n",
       "})"
      ]
     },
     "execution_count": 39,
     "metadata": {},
     "output_type": "execute_result"
    }
   ],
   "source": [
    "fig_2 = go.Figure()\n",
    "\n",
    "# Map layout\n",
    "fig_2.update_layout(\n",
    "    autosize=True,\n",
    "    hovermode='closest',\n",
    "    mapbox=dict(\n",
    "        accesstoken=my_mapbox_access_token,\n",
    "        style='light',\n",
    "        center={'lon': np.mean(delivery_points_df['longitude']),\n",
    "                'lat': np.mean(delivery_points_df['latitude'])},\n",
    "        zoom=11\n",
    "    ),\n",
    ")\n",
    "\n",
    "for route_num, route_df in basic_locations_df.groupby('route_num'):\n",
    "\n",
    "    # Add collection point to group df\n",
    "    route_df = pd.concat([collection_point_df, route_df]).reset_index(drop=True)\n",
    "        \n",
    "    # Add route to map\n",
    "    fig_2.add_trace(go.Scattermapbox(\n",
    "            lat=route_df['latitude'],\n",
    "            lon=route_df['longitude'],\n",
    "            mode='lines+markers',\n",
    "            marker=go.scattermapbox.Marker(\n",
    "                size=13,\n",
    "            ),\n",
    "            hoverinfo='text',\n",
    "            text='Stop ' + route_df.index.astype(str) + ' - ' + route_df['address'],\n",
    "\n",
    "            name='Route ' + str(route_num)\n",
    "        ))\n",
    "    \n",
    "\n",
    "# fig_2.show()\n",
    "fig_2"
   ]
  },
  {
   "cell_type": "code",
   "execution_count": null,
   "metadata": {},
   "outputs": [],
   "source": []
  },
  {
   "cell_type": "code",
   "execution_count": null,
   "metadata": {},
   "outputs": [],
   "source": []
  },
  {
   "cell_type": "code",
   "execution_count": null,
   "metadata": {},
   "outputs": [],
   "source": []
  }
 ],
 "metadata": {
  "kernelspec": {
   "display_name": "perch_env python",
   "language": "python",
   "name": "perch_env"
  },
  "language_info": {
   "codemirror_mode": {
    "name": "ipython",
    "version": 3
   },
   "file_extension": ".py",
   "mimetype": "text/x-python",
   "name": "python",
   "nbconvert_exporter": "python",
   "pygments_lexer": "ipython3",
   "version": "3.7.3"
  }
 },
 "nbformat": 4,
 "nbformat_minor": 4
}
